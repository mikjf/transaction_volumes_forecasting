{
  "nbformat": 4,
  "nbformat_minor": 0,
  "metadata": {
    "colab": {
      "provenance": []
    },
    "kernelspec": {
      "name": "python3",
      "display_name": "Python 3"
    },
    "language_info": {
      "name": "python"
    }
  },
  "cells": [
    {
      "cell_type": "code",
      "execution_count": null,
      "metadata": {
        "id": "GrDeUH2WdRGS"
      },
      "outputs": [],
      "source": [
        "def sortDates(datesList):\n",
        "   split_up = datesList.split('-')\n",
        "   return split_up[1], split_up[0]\n",
        "def getting_dates(df):\n",
        "  df_trans_set = df.set_index('Merchant Name')\n",
        "  months = {'Jan':'01','Feb':'02','Mär':'03','Apr':'04', 'Mai':'05', 'Jun':'06', 'Jul':'07', 'Aug':'08', 'Sep':'09', 'Okt':'10', 'Nov':'11', 'Dez':'12'}\n",
        "  store = list(df_trans_set.columns)\n",
        "  for i, n in enumerate(store):\n",
        "    for g, k in months.items():\n",
        "      if g in n:\n",
        "        store[i] = store[i].replace(f'{g} ', f'{k}-')\n",
        "        store[i] = store[i].replace('-', '-20')\n",
        "  store.sort(key=sortDates)\n",
        "  star_date = store[0]\n",
        "  last_date = store[-1]\n",
        "  return star_date, last_date"
      ]
    }
  ]
}