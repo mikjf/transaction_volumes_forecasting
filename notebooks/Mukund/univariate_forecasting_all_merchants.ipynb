{
 "cells": [
  {
   "cell_type": "markdown",
   "id": "a34686b6-c82a-47ff-b015-eeb5bfeb628e",
   "metadata": {},
   "source": [
    "# Multiple Time Series Forecasting Using Prophet"
   ]
  },
  {
   "cell_type": "markdown",
   "id": "67f37679-7753-4259-a068-2f06523f0913",
   "metadata": {},
   "source": [
    "Prophet is an open source library developed by Facebook which aims to make time-series forecasting easy and scalable. It is a type of a generalized additive model (GAM), which uses regression model with potentially non-linear smoothers. It is called additive because it addes multiple decomposed parts to explain some trends. For example, Prophet uses the following components: \n",
    "\n",
    "$$ y(t) = g(t) + s(t) + h(t) + e(t) $$\n",
    "\n",
    "where,  \n",
    "$g(t)$: Growth. Big trend. Non-periodic changes.   \n",
    "$s(t)$: Sesonality. Periodic changes (e.g. weekly, yearly, etc.) represented by Fourier Series.  \n",
    "$h(t)$: Holiday effect that represents irregular schedules.   \n",
    "$e(t)$: Error. Any idiosyncratic changes not explained by the model. "
   ]
  },
  {
   "cell_type": "code",
   "execution_count": null,
   "id": "5901c755-265b-4d8b-9e73-41caf792d3e3",
   "metadata": {},
   "outputs": [],
   "source": [
    "# Prophet model for time series forecast\n",
    "from prophet import Prophet\n",
    "\n",
    "# Data processing\n",
    "import numpy as np\n",
    "import pandas as pd\n",
    "\n",
    "# Visualization\n",
    "import seaborn as sns\n",
    "import matplotlib.pyplot as plt\n",
    "\n",
    "# Multi-processing\n",
    "from multiprocessing import Pool, cpu_count# Spark\n",
    "from tqdm import tqdm# Tracking time\n",
    "from time import time\n",
    "\n",
    "# import the math module \n",
    "import math \n",
    "\n",
    "# Model performance evaluation\n",
    "import sklearn "
   ]
  },
  {
   "cell_type": "code",
   "execution_count": null,
   "id": "351e26a6-6c8a-4da0-b740-f0aa3576167a",
   "metadata": {},
   "outputs": [],
   "source": [
    "# you need to change the file path\n",
    "data_path = \"../../../data/raw/Time_Series_Merchants_Transactions_Anonymized.csv\"\n",
    "df_merchant_transactions = pd.read_csv(data_path)\n",
    "ticker_list = df_merchant_transactions.iloc[:,0].values\n",
    "df_merchant_transactions = df_merchant_transactions.drop(columns='Merchant Name')\n",
    "ticker_list "
   ]
  },
  {
   "cell_type": "code",
   "execution_count": null,
   "id": "8eeaafc0-c95f-4d38-97b2-c8f42f345751",
   "metadata": {},
   "outputs": [],
   "source": [
    "# replacing columns names with standard date format\n",
    "stddates = pd.date_range(start='2020-08', end='2022-10', freq=\"M\")\n",
    "df_merchant_transactions = pd.DataFrame(df_merchant_transactions.values)\n",
    "df_merchant_transactions = df_merchant_transactions.T\n",
    "stddates"
   ]
  },
  {
   "cell_type": "code",
   "execution_count": null,
   "id": "7cb673d8-76ce-43e3-b738-1423fac9cfcd",
   "metadata": {},
   "outputs": [],
   "source": [
    "data = pd.DataFrame(df_merchant_transactions.values)\n",
    "# Change variable names\n",
    "data.columns = ticker_list #merchant_names\n",
    "# Take a look at the data\n",
    "data.info()"
   ]
  },
  {
   "cell_type": "code",
   "execution_count": null,
   "id": "deb69e62-40c1-4ee7-bbaa-ae25523472ce",
   "metadata": {},
   "outputs": [],
   "source": [
    "# Using DataFrame.insert() to add a column\n",
    "data.insert(0, \"ds\", stddates, True)\n",
    "data.head()"
   ]
  },
  {
   "cell_type": "code",
   "execution_count": null,
   "id": "6c5a1e6f-01e7-4378-9a06-897af2fadd19",
   "metadata": {},
   "outputs": [],
   "source": [
    "# Train test split the date need to be changed \n",
    "train_end_date = '2022-04-30'\n",
    "train1 = data[data['ds'] <= train_end_date]\n",
    "test1 = data[data['ds'] > train_end_date]\n",
    "\n",
    "# Check the shape of the dataset\n",
    "print(train1.shape)\n",
    "print(test1.shape)"
   ]
  },
  {
   "cell_type": "code",
   "execution_count": null,
   "id": "67e04e27-5314-498d-8ad5-20568f55a230",
   "metadata": {},
   "outputs": [],
   "source": [
    "train1 = train1.reset_index()# Change data from the wide format to the long format\n",
    "train = pd.melt(train1, id_vars='ds', value_vars=ticker_list)\n",
    "train.columns = ['ds', 'ticker', 'y']\n",
    "train.head()"
   ]
  },
  {
   "cell_type": "code",
   "execution_count": null,
   "id": "7f045d23-b20c-4968-8d37-6d7bdc6883d0",
   "metadata": {},
   "outputs": [],
   "source": [
    "# Release Date from the index\n",
    "data = data.reset_index()# Change data from the wide format to the long format\n",
    "df = pd.melt(data, id_vars='ds', value_vars=ticker_list)\n",
    "df.columns = ['ds', 'ticker', 'y']\n",
    "df.head()"
   ]
  },
  {
   "cell_type": "code",
   "execution_count": null,
   "id": "c25e0e81-7b5a-47d9-a266-452fb00dc6bd",
   "metadata": {},
   "outputs": [],
   "source": [
    "# Check correlation\n",
    "correlation = data.corrwith(data[\"Merchant 1\"])\n",
    "correlation"
   ]
  },
  {
   "cell_type": "code",
   "execution_count": null,
   "id": "f094a8ae-1039-4d92-926c-58301d4621f8",
   "metadata": {},
   "outputs": [],
   "source": [
    "# Group the data by ticker\n",
    "groups_by_ticker = train.groupby('ticker')# Check the groups in the dataframe\n",
    "groups_by_ticker.groups.keys();"
   ]
  },
  {
   "cell_type": "code",
   "execution_count": null,
   "id": "a14b79a1-3514-4ba0-bfdf-0e5a6c342686",
   "metadata": {},
   "outputs": [],
   "source": [
    "def train_and_forecast(group):  # Initiate the model\n",
    "  m = Prophet(interval_width=0.95, seasonality_mode='multiplicative', weekly_seasonality=False, daily_seasonality=False)\n",
    "  \n",
    "  # Fit the model\n",
    "  m.fit(group)  # Make predictions\n",
    "  future = m.make_future_dataframe(test1.shape[0], freq='M')\n",
    "  forecast = m.predict(future)[['ds', 'yhat', 'yhat_lower', 'yhat_upper']]\n",
    "  # Visualize the forecast\n",
    "  #m.plot(forecast)\n",
    "  forecast['ticker'] = group['ticker'].iloc[0]\n",
    " \n",
    "  # Return the forecasted results\n",
    "  return forecast[['ds', 'ticker', 'yhat', 'yhat_upper', 'yhat_lower']]"
   ]
  },
  {
   "cell_type": "code",
   "execution_count": null,
   "id": "6525648b-e073-4c69-9962-659cfe53da89",
   "metadata": {},
   "outputs": [],
   "source": [
    "# Start time\n",
    "start_time = time()# Create an empty dataframe\n",
    "for_loop_forecast = pd.DataFrame()# Loop through each ticker\n",
    "for ticker in ticker_list:\n",
    "  # Get the data for the ticker\n",
    "  group = groups_by_ticker.get_group(ticker)  \n",
    "  # Make forecast\n",
    "  forecast = train_and_forecast(group)\n",
    "  # Add the forecast results to the dataframe\n",
    "  for_loop_forecast = pd.concat((for_loop_forecast, forecast))\n",
    "    \n",
    "print('The time used for the for-loop forecast is ', time()-start_time)# Take a look at the data\n",
    "for_loop_forecast.head()"
   ]
  },
  {
   "cell_type": "code",
   "execution_count": null,
   "id": "28575b8a-c47b-4d3c-9ae4-0d893dcb6407",
   "metadata": {},
   "outputs": [],
   "source": [
    "for_loop_forecast = for_loop_forecast.drop(columns = ['yhat_lower', 'yhat_upper'])\n",
    "for_loop_forecast.head()"
   ]
  },
  {
   "cell_type": "code",
   "execution_count": null,
   "id": "34736fdd-c7fd-4104-964b-1655d13fb9b4",
   "metadata": {},
   "outputs": [],
   "source": [
    "def rmse(data, forecast):\n",
    "    # rmse = sqrt(sklearn.metrics.mean_squared_error(test[merchant_name].values, fitted.values))\n",
    "    return math.sqrt(sklearn.metrics.mean_squared_error(data, forecast))"
   ]
  },
  {
   "cell_type": "code",
   "execution_count": null,
   "id": "437f7472-2be6-40a6-bd04-35ebe6dc9468",
   "metadata": {},
   "outputs": [],
   "source": [
    "total_rmse = 0\n",
    "rmse_list = []\n",
    "for i in range(len(ticker_list)):\n",
    "#for i in range(20):\n",
    "    if i == 0:\n",
    "        k = train1.shape[0]\n",
    "        j = train1.shape[0] + test1.shape[0]\n",
    "    elif i == 1:\n",
    "        k = train1.shape[0] * 2\n",
    "        j = (train1.shape[0] + test1.shape[0])*2\n",
    "    else:\n",
    "        k = (i+1) * train1.shape[0] - test1.shape[0]\n",
    "        j = (i+1) * train1.shape[0] \n",
    "    # the total rmse error for all the merchants    \n",
    "    total_rmse += rmse(df['y'].iloc[k:j], for_loop_forecast['yhat'].iloc[k:j])\n",
    "    # rmse_list has the list of all the rmse errors for individual merchant forecast\n",
    "    rmse_list.append(rmse(df['y'].iloc[k:j], for_loop_forecast['yhat'].iloc[k:j]))\n",
    "print('total_rmse : ', total_rmse)"
   ]
  },
  {
   "cell_type": "code",
   "execution_count": null,
   "id": "70778a41-5d5b-4c65-95d3-9c8f818f0eed",
   "metadata": {},
   "outputs": [],
   "source": [
    "#rmse_list"
   ]
  }
 ],
 "metadata": {
  "kernelspec": {
   "display_name": "six_project",
   "language": "python",
   "name": "six_project"
  },
  "language_info": {
   "codemirror_mode": {
    "name": "ipython",
    "version": 3
   },
   "file_extension": ".py",
   "mimetype": "text/x-python",
   "name": "python",
   "nbconvert_exporter": "python",
   "pygments_lexer": "ipython3",
   "version": "3.9.12"
  }
 },
 "nbformat": 4,
 "nbformat_minor": 5
}
