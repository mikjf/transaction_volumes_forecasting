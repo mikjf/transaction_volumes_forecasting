{
 "cells": [
  {
   "cell_type": "markdown",
   "metadata": {
    "id": "B8Un-rd3u3oF"
   },
   "source": [
    "# Use FB Prophet for Multivariate Time-series Forecasting: Six Group merchant for sum of 74 transactions\n",
    "\n",
    "Prophet is an open source library developed by Facebook which aims to make time-series forecasting easy and scalable. It is a type of a generalized additive model (GAM), which uses regression model with potentially non-linear smoothers. It is called additive because it addes multiple decomposed parts to explain some trends. For example, Prophet uses the following components: \n",
    "\n",
    "$$ y(t) = g(t) + s(t) + h(t) + e(t) $$\n",
    "\n",
    "where,  \n",
    "$g(t)$: Growth. Big trend. Non-periodic changes.   \n",
    "$s(t)$: Sesonality. Periodic changes (e.g. weekly, yearly, etc.) represented by Fourier Series.  \n",
    "$h(t)$: Holiday effect that represents irregular schedules.   \n",
    "$e(t)$: Error. Any idiosyncratic changes not explained by the model. \n",
    "\n",
    "# Table of Contents \n",
    "1. [Prepare Data](#prep)\n",
    "2. [Get Data](#data)\n",
    "3. [Data Processing](#processing)\n",
    "4. [Train Test Split](#split)\n",
    "5. [Baseline Model](#baseline)\n",
    "6. [Multivariate Model](#multivariate)\n",
    "7. [References](#References)"
   ]
  },
  {
   "cell_type": "markdown",
   "metadata": {
    "id": "XfPJby-2E_II"
   },
   "source": [
    "# Step 1: Install and Import Libraries"
   ]
  },
  {
   "cell_type": "markdown",
   "metadata": {
    "id": "3cE2gt2RVPiu"
   },
   "source": [
    "<a id=prep></a>\n",
    "# 1. Prepare Data\n",
    "\n",
    "The goal of the time series model is to predict the six group merchant transactions. Prophet requires at least two columns as inputs: a ds column and a y column.\n",
    "\n",
    " * The ds column has the time information. Currently we have the date as the index, so we name this index as ds.\n",
    " * The y column has the time series transaction values. In this example, because we are predicting six group merchant transactions, the column name for the transactions is named y."
   ]
  },
  {
   "cell_type": "code",
   "execution_count": 1,
   "metadata": {
    "id": "CaAXOq7cFUCx"
   },
   "outputs": [],
   "source": [
    "# Prophet model for time series forecast\n",
    "from prophet import Prophet\n",
    "\n",
    "# Data processing\n",
    "import numpy as np\n",
    "import pandas as pd\n",
    "\n",
    "# Visualization\n",
    "import seaborn as sns\n",
    "import matplotlib.pyplot as plt\n",
    "\n",
    "# Model performance evaluation\n",
    "#from sklearn.metrics import mean_absolute_error, mean_absolute_percentage_error"
   ]
  },
  {
   "cell_type": "markdown",
   "metadata": {
    "id": "2S3-Wup8FVRK"
   },
   "source": [
    "# Step 2: Get Data"
   ]
  },
  {
   "cell_type": "code",
   "execution_count": 2,
   "metadata": {},
   "outputs": [],
   "source": [
    "data_path_sum = \"../../../data/raw/ninety_sum.csv\"\n",
    "df_merchant_transactions_sum = pd.read_csv(data_path_sum)"
   ]
  },
  {
   "cell_type": "markdown",
   "metadata": {
    "id": "MHqhmZPEQt9h"
   },
   "source": [
    "# Step 3: Data Processing"
   ]
  },
  {
   "cell_type": "markdown",
   "metadata": {
    "id": "h3YfRRwnxoIw"
   },
   "source": [
    "Step 3 transforms the dataset into a time series modeling dataset. \n",
    "\n",
    "\n",
    "Prophet requires at least two columns as inputs: a `ds` column and a `y` column.\n",
    "* The `ds` column has the time information. Currently we have the date as the index, so we reset the index and rename `date` to `ds`.\n",
    "* The y column has the time series values. the column name `Merchant 1` is changed to `y`.\n",
    "* There is no pre-defined name for the additional predictor in prophet, so we can keep the names as is."
   ]
  },
  {
   "cell_type": "code",
   "execution_count": 3,
   "metadata": {
    "colab": {
     "base_uri": "https://localhost:8080/",
     "height": 206
    },
    "executionInfo": {
     "elapsed": 153,
     "status": "ok",
     "timestamp": 1653163975291,
     "user": {
      "displayName": "Amy Zhuang",
      "userId": "03652318964562397937"
     },
     "user_tz": 240
    },
    "id": "d_zo4cduo9c1",
    "outputId": "107a0deb-a753-4ba4-aee4-632e4193a3fb"
   },
   "outputs": [
    {
     "name": "stdout",
     "output_type": "stream",
     "text": [
      "<class 'pandas.core.frame.DataFrame'>\n",
      "RangeIndex: 26 entries, 0 to 25\n",
      "Data columns (total 2 columns):\n",
      " #   Column  Non-Null Count  Dtype \n",
      "---  ------  --------------  ----- \n",
      " 0   ds      26 non-null     object\n",
      " 1   y       26 non-null     object\n",
      "dtypes: object(2)\n",
      "memory usage: 544.0+ bytes\n"
     ]
    }
   ],
   "source": [
    "data = pd.DataFrame(df_merchant_transactions_sum.values)\n",
    "# Change variable names\n",
    "my_input = ['ds', 'y'] \n",
    "data.columns = my_input\n",
    "\n",
    "# Take a look at the data\n",
    "data.info()"
   ]
  },
  {
   "cell_type": "markdown",
   "metadata": {
    "id": "kHFDb9YXZeIE"
   },
   "source": [
    "# Step 4: Train Test Split"
   ]
  },
  {
   "cell_type": "markdown",
   "metadata": {
    "id": "ZrUIIgp8DSlM"
   },
   "source": [
    "In step 4, we will do the train test split. For time series data, usually a threshold date is chosen, then we set the dates before the threshold to be the training dataset and the dates after the threshold to be the testing dataset.\n",
    "\n",
    "Based on the threshold date (`train_end_date`) we set before, there are data points in the training dataset and data points in the testing dataset."
   ]
  },
  {
   "cell_type": "code",
   "execution_count": 4,
   "metadata": {
    "colab": {
     "base_uri": "https://localhost:8080/"
    },
    "executionInfo": {
     "elapsed": 151,
     "status": "ok",
     "timestamp": 1653163992111,
     "user": {
      "displayName": "Amy Zhuang",
      "userId": "03652318964562397937"
     },
     "user_tz": 240
    },
    "id": "s1n7NEZ2ToW_",
    "outputId": "a367fdc6-b6de-4a1f-96cd-58e25f1736de"
   },
   "outputs": [
    {
     "name": "stdout",
     "output_type": "stream",
     "text": [
      "(21, 2)\n",
      "(5, 2)\n"
     ]
    }
   ],
   "source": [
    "# Train test split\n",
    "start_date = '2020-08-31'\n",
    "end_date = '2022-09-30'\n",
    "train_end_date = '2022-04-30'\n",
    "train = data[data['ds'] <= train_end_date]\n",
    "test = data[data['ds'] > train_end_date]\n",
    "\n",
    "# Check the shape of the dataset\n",
    "print(train.shape)\n",
    "print(test.shape)"
   ]
  },
  {
   "cell_type": "markdown",
   "metadata": {
    "id": "z2x8mK5pE2n9"
   },
   "source": [
    "Checking the minimum and maximum values for the train and test dataset separately gave us the starting and ending dates."
   ]
  },
  {
   "cell_type": "code",
   "execution_count": 5,
   "metadata": {
    "colab": {
     "base_uri": "https://localhost:8080/"
    },
    "executionInfo": {
     "elapsed": 162,
     "status": "ok",
     "timestamp": 1653163994673,
     "user": {
      "displayName": "Amy Zhuang",
      "userId": "03652318964562397937"
     },
     "user_tz": 240
    },
    "id": "pVFD6G__38hX",
    "outputId": "10ef9063-a64e-4659-c9f6-f32a22049b3f"
   },
   "outputs": [
    {
     "name": "stdout",
     "output_type": "stream",
     "text": [
      "The start time of the training dataset is  2020-08-31\n",
      "The end time of the training dataset is  2022-04-30\n",
      "The start time of the testing dataset is  2022-05-31\n",
      "The end time of the testing dataset is  2022-09-30\n"
     ]
    }
   ],
   "source": [
    "# Check the start and end time of the training and testing dataset\n",
    "print('The start time of the training dataset is ', train['ds'].min())\n",
    "print('The end time of the training dataset is ', train['ds'].max())\n",
    "print('The start time of the testing dataset is ', test['ds'].min())\n",
    "print('The end time of the testing dataset is ', test['ds'].max())"
   ]
  },
  {
   "cell_type": "code",
   "execution_count": 6,
   "metadata": {},
   "outputs": [
    {
     "data": {
      "text/plain": [
       "5"
      ]
     },
     "execution_count": 6,
     "metadata": {},
     "output_type": "execute_result"
    }
   ],
   "source": [
    "def diff_month(d1, d2):\n",
    "    return (d1.year - d2.year) * 12 + d1.month - d2.month\n",
    "period_months = diff_month(pd.to_datetime(end_date), pd.to_datetime(train_end_date))\n",
    "period_months  "
   ]
  },
  {
   "cell_type": "markdown",
   "metadata": {
    "id": "8ePfpgRtqKbc"
   },
   "source": [
    "# Step 5: Baseline Model"
   ]
  },
  {
   "cell_type": "markdown",
   "metadata": {
    "id": "ypamYI2zGdky"
   },
   "source": [
    "In step 5, we will build a univariate baseline model using the default prophet hyperparameters, and fit the model using the training dataset."
   ]
  },
  {
   "cell_type": "markdown",
   "metadata": {
    "id": "KyUdAGsLqVZc"
   },
   "source": [
    "## Step 5.1: Build Baseline Model"
   ]
  },
  {
   "cell_type": "code",
   "execution_count": 7,
   "metadata": {
    "colab": {
     "base_uri": "https://localhost:8080/"
    },
    "executionInfo": {
     "elapsed": 4027,
     "status": "ok",
     "timestamp": 1653024223481,
     "user": {
      "displayName": "Amy Zhuang",
      "userId": "03652318964562397937"
     },
     "user_tz": 240
    },
    "id": "S1hnWrh7qllm",
    "outputId": "b7967b4c-00dd-4ff2-9d6d-e277a1eeeb87"
   },
   "outputs": [
    {
     "name": "stderr",
     "output_type": "stream",
     "text": [
      "11:00:23 - cmdstanpy - INFO - Chain [1] start processing\n",
      "11:00:23 - cmdstanpy - INFO - Chain [1] done processing\n"
     ]
    },
    {
     "data": {
      "text/plain": [
       "<prophet.forecaster.Prophet at 0x7f4801c03160>"
      ]
     },
     "execution_count": 7,
     "metadata": {},
     "output_type": "execute_result"
    }
   ],
   "source": [
    "# Use the default hyperparameters to initiate the Prophet model\n",
    "model_baseline = Prophet(interval_width=0.99, seasonality_mode='multiplicative')\n",
    "\n",
    "# Fit the model on the training dataset\n",
    "model_baseline.fit(train)"
   ]
  },
  {
   "cell_type": "markdown",
   "metadata": {
    "id": "kh97rZBJS5sA"
   },
   "source": [
    "Prophet automatically fits daily, weekly, and yearly seasonalities if the time series is more than two cycles long.\n",
    "\n",
    "The model information shows that the yearly seasonality and the daily seasonality are disabled. \n",
    "* The daily seasonality is disabled because we do not have sub-daily time series. \n",
    "* The yearly seasonality is disabled although we have two years of data. \n",
    "\n",
    "We will continue with the default values for the baseline model and force the yearly seasonality in the next model to see the impact of the yearly seasonality."
   ]
  },
  {
   "cell_type": "markdown",
   "metadata": {
    "id": "i25VpIgar-Kr"
   },
   "source": [
    "## Step 5.2: Baseline Model Forecast"
   ]
  },
  {
   "cell_type": "markdown",
   "metadata": {
    "id": "EPg2YxA3Wpw6"
   },
   "source": [
    "After making the prediction on the future dataframe, we can plot the result using `.plot`.\n",
    "* The black dots are the actual values.\n",
    "* The blue line is the prediction.\n",
    "* The blue shades are the uncertainty interval. The default value for the uncertainty interval is 80%, so we are using 80% here. The uncertainty interval is calculated based on the assumption that the average frequency and magnitude of trend changes in the future will be the same as the historical data. The historical data trend changes are projected forward to get the uncertainty intervals [1]."
   ]
  },
  {
   "cell_type": "code",
   "execution_count": 8,
   "metadata": {
    "colab": {
     "base_uri": "https://localhost:8080/",
     "height": 437
    },
    "executionInfo": {
     "elapsed": 4365,
     "status": "ok",
     "timestamp": 1653024711353,
     "user": {
      "displayName": "Amy Zhuang",
      "userId": "03652318964562397937"
     },
     "user_tz": 240
    },
    "id": "wSVRPteNsZwX",
    "outputId": "e51bc246-abdf-4526-9751-860462bf31bc"
   },
   "outputs": [
    {
     "data": {
      "image/png": "[encoded data removed]",
      "text/plain": [
       "<Figure size 720x432 with 1 Axes>"
      ]
     },
     "metadata": {},
     "output_type": "display_data"
    }
   ],
   "source": [
    "# Create the time range for the forecast\n",
    "future_baseline = model_baseline.make_future_dataframe(period_months, freq='M')\n",
    "\n",
    "# Make prediction\n",
    "forecast_baseline = model_baseline.predict(future_baseline)\n",
    "\n",
    "# Visualize the forecast\n",
    "fig = model_baseline.plot(forecast_baseline); # Add semi-colon to remove the duplicated chart\n",
    "plt.legend(['Actual', 'Prediction', 'Uncertainty interval'])\n",
    "plt.show()"
   ]
  },
  {
   "cell_type": "markdown",
   "metadata": {
    "id": "HxrvuruXd5Bz"
   },
   "source": [
    "In addition to the forecast plot, prophet also provides the components plot. \n",
    "\n",
    "From the component plot chart, we can see that the Google stock closing price has an overall upward trend. The weekly seasonality shows that the price tends to be lower at the beginning of the week and higher at the end of the week."
   ]
  },
  {
   "cell_type": "code",
   "execution_count": 9,
   "metadata": {
    "colab": {
     "base_uri": "https://localhost:8080/",
     "height": 437
    },
    "executionInfo": {
     "elapsed": 914,
     "status": "ok",
     "timestamp": 1653024252965,
     "user": {
      "displayName": "Amy Zhuang",
      "userId": "03652318964562397937"
     },
     "user_tz": 240
    },
    "id": "fzIz3SSlsu_u",
    "outputId": "e2a19069-e0d7-4910-852f-8856a21f0503"
   },
   "outputs": [
    {
     "data": {
      "image/png": "[encoded data removed]",
      "text/plain": [
       "<Figure size 648x216 with 1 Axes>"
      ]
     },
     "metadata": {},
     "output_type": "display_data"
    }
   ],
   "source": [
    "# Visualize the forecast components\n",
    "model_baseline.plot_components(forecast_baseline);"
   ]
  },
  {
   "cell_type": "markdown",
   "metadata": {
    "id": "zfLBCaN5tL5S",
    "tags": []
   },
   "source": [
    "## Step 6: Multivariate Model Performance"
   ]
  },
  {
   "cell_type": "code",
   "execution_count": 10,
   "metadata": {},
   "outputs": [
    {
     "data": {
      "text/plain": [
       "607940.8284937565"
      ]
     },
     "execution_count": 10,
     "metadata": {},
     "output_type": "execute_result"
    }
   ],
   "source": [
    "# import the math module\n",
    "import math\n",
    "import sklearn.metrics\n",
    "\n",
    "def rmse(data, forecast):\n",
    "    # rmse = sqrt(sklearn.metrics.mean_squared_error(test[merchant_name].values, fitted.values))\n",
    "    return math.sqrt(sklearn.metrics.mean_squared_error(data, forecast))\n",
    "\n",
    "rmse(data['y'].iloc[21:26], forecast_baseline['yhat'][21:26])"
   ]
  },
  {
   "cell_type": "code",
   "execution_count": 11,
   "metadata": {},
   "outputs": [
    {
     "name": "stderr",
     "output_type": "stream",
     "text": [
      "11:00:24 - cmdstanpy - INFO - Chain [1] start processing\n",
      "11:00:24 - cmdstanpy - INFO - Chain [1] done processing\n"
     ]
    },
    {
     "data": {
      "image/png": "[encoded data removed]",
      "text/plain": [
       "<Figure size 720x432 with 1 Axes>"
      ]
     },
     "metadata": {},
     "output_type": "display_data"
    },
    {
     "name": "stdout",
     "output_type": "stream",
     "text": [
      "RMSE error  607940.8284937565\n"
     ]
    }
   ],
   "source": [
    "#with open('rmse_error.txt', 'w') as f:\n",
    "model_univariate = Prophet(interval_width=0.99, seasonality_mode='multiplicative')\n",
    "# Fit the model on the training dataset\n",
    "model_univariate.fit(train)\n",
    "future_multivariate = model_univariate.make_future_dataframe(period_months, freq='M')\n",
    "# Fill the missing values with the previous value\n",
    "future_multivariate = future_multivariate.fillna(method='ffill')\n",
    "# Make prediction\n",
    "forecast_multivariate = model_univariate.predict(future_multivariate)\n",
    "# Visualize the forecast\n",
    "fig = model_univariate.plot(forecast_multivariate)\n",
    "plt.legend(['Actual', 'Prediction', 'Uncertainty interval'])\n",
    "plt.show()\n",
    "error_rmse = rmse(data['y'].iloc[21:26], forecast_multivariate['yhat'].iloc[21:26])\n",
    "print('RMSE error ', error_rmse);\n",
    "#f.write('for merchant sum the rmse error is ')\n",
    "#f.write(str(error_rmse))\n",
    "#f.write('\\n')"
   ]
  },
  {
   "cell_type": "code",
   "execution_count": 12,
   "metadata": {},
   "outputs": [],
   "source": [
    "#forecast_multivariate[['ds', 'yhat', 'yhat_lower', 'yhat_upper']]\n",
    "with open('74merchants_12months.txt', 'w') as f:\n",
    "    #f.write('RMSE error ')\n",
    "    #f.write(str(error_rmse))\n",
    "    f.write('\\n')\n",
    "    f.write(str(forecast_multivariate[['ds', 'yhat', 'yhat_lower', 'yhat_upper']]))"
   ]
  },
  {
   "cell_type": "code",
   "execution_count": 13,
   "metadata": {},
   "outputs": [
    {
     "data": {
      "text/html": [
       "<div>\n",
       "<style scoped>\n",
       "    .dataframe tbody tr th:only-of-type {\n",
       "        vertical-align: middle;\n",
       "    }\n",
       "\n",
       "    .dataframe tbody tr th {\n",
       "        vertical-align: top;\n",
       "    }\n",
       "\n",
       "    .dataframe thead th {\n",
       "        text-align: right;\n",
       "    }\n",
       "</style>\n",
       "<table border=\"1\" class=\"dataframe\">\n",
       "  <thead>\n",
       "    <tr style=\"text-align: right;\">\n",
       "      <th></th>\n",
       "      <th>ds</th>\n",
       "      <th>yhat</th>\n",
       "      <th>yhat_lower</th>\n",
       "      <th>yhat_upper</th>\n",
       "    </tr>\n",
       "  </thead>\n",
       "  <tbody>\n",
       "    <tr>\n",
       "      <th>0</th>\n",
       "      <td>2020-08-31</td>\n",
       "      <td>5.315207e+06</td>\n",
       "      <td>4.144010e+06</td>\n",
       "      <td>6.317164e+06</td>\n",
       "    </tr>\n",
       "    <tr>\n",
       "      <th>1</th>\n",
       "      <td>2020-09-30</td>\n",
       "      <td>5.392515e+06</td>\n",
       "      <td>4.391392e+06</td>\n",
       "      <td>6.590526e+06</td>\n",
       "    </tr>\n",
       "    <tr>\n",
       "      <th>2</th>\n",
       "      <td>2020-10-31</td>\n",
       "      <td>5.472401e+06</td>\n",
       "      <td>4.435152e+06</td>\n",
       "      <td>6.609868e+06</td>\n",
       "    </tr>\n",
       "    <tr>\n",
       "      <th>3</th>\n",
       "      <td>2020-11-30</td>\n",
       "      <td>5.549709e+06</td>\n",
       "      <td>4.325570e+06</td>\n",
       "      <td>6.641105e+06</td>\n",
       "    </tr>\n",
       "    <tr>\n",
       "      <th>4</th>\n",
       "      <td>2020-12-31</td>\n",
       "      <td>5.629595e+06</td>\n",
       "      <td>4.498888e+06</td>\n",
       "      <td>6.750311e+06</td>\n",
       "    </tr>\n",
       "    <tr>\n",
       "      <th>5</th>\n",
       "      <td>2021-01-31</td>\n",
       "      <td>5.709481e+06</td>\n",
       "      <td>4.625937e+06</td>\n",
       "      <td>6.789874e+06</td>\n",
       "    </tr>\n",
       "    <tr>\n",
       "      <th>6</th>\n",
       "      <td>2021-02-28</td>\n",
       "      <td>5.781635e+06</td>\n",
       "      <td>4.645667e+06</td>\n",
       "      <td>6.838455e+06</td>\n",
       "    </tr>\n",
       "    <tr>\n",
       "      <th>7</th>\n",
       "      <td>2021-03-31</td>\n",
       "      <td>5.861521e+06</td>\n",
       "      <td>4.779303e+06</td>\n",
       "      <td>6.967639e+06</td>\n",
       "    </tr>\n",
       "    <tr>\n",
       "      <th>8</th>\n",
       "      <td>2021-04-30</td>\n",
       "      <td>5.938830e+06</td>\n",
       "      <td>4.803735e+06</td>\n",
       "      <td>6.970715e+06</td>\n",
       "    </tr>\n",
       "    <tr>\n",
       "      <th>9</th>\n",
       "      <td>2021-05-31</td>\n",
       "      <td>6.018715e+06</td>\n",
       "      <td>4.794366e+06</td>\n",
       "      <td>7.022207e+06</td>\n",
       "    </tr>\n",
       "    <tr>\n",
       "      <th>10</th>\n",
       "      <td>2021-06-30</td>\n",
       "      <td>6.096024e+06</td>\n",
       "      <td>4.973284e+06</td>\n",
       "      <td>7.260471e+06</td>\n",
       "    </tr>\n",
       "    <tr>\n",
       "      <th>11</th>\n",
       "      <td>2021-07-31</td>\n",
       "      <td>6.175910e+06</td>\n",
       "      <td>5.106650e+06</td>\n",
       "      <td>7.346775e+06</td>\n",
       "    </tr>\n",
       "    <tr>\n",
       "      <th>12</th>\n",
       "      <td>2021-08-31</td>\n",
       "      <td>6.255795e+06</td>\n",
       "      <td>5.221863e+06</td>\n",
       "      <td>7.311133e+06</td>\n",
       "    </tr>\n",
       "    <tr>\n",
       "      <th>13</th>\n",
       "      <td>2021-09-30</td>\n",
       "      <td>6.333104e+06</td>\n",
       "      <td>5.241963e+06</td>\n",
       "      <td>7.449520e+06</td>\n",
       "    </tr>\n",
       "    <tr>\n",
       "      <th>14</th>\n",
       "      <td>2021-10-31</td>\n",
       "      <td>6.412989e+06</td>\n",
       "      <td>5.310897e+06</td>\n",
       "      <td>7.494052e+06</td>\n",
       "    </tr>\n",
       "    <tr>\n",
       "      <th>15</th>\n",
       "      <td>2021-11-30</td>\n",
       "      <td>6.490298e+06</td>\n",
       "      <td>5.327243e+06</td>\n",
       "      <td>7.686301e+06</td>\n",
       "    </tr>\n",
       "    <tr>\n",
       "      <th>16</th>\n",
       "      <td>2021-12-31</td>\n",
       "      <td>6.570184e+06</td>\n",
       "      <td>5.453591e+06</td>\n",
       "      <td>7.653313e+06</td>\n",
       "    </tr>\n",
       "    <tr>\n",
       "      <th>17</th>\n",
       "      <td>2022-01-31</td>\n",
       "      <td>6.650069e+06</td>\n",
       "      <td>5.599900e+06</td>\n",
       "      <td>7.734326e+06</td>\n",
       "    </tr>\n",
       "    <tr>\n",
       "      <th>18</th>\n",
       "      <td>2022-02-28</td>\n",
       "      <td>6.722224e+06</td>\n",
       "      <td>5.784330e+06</td>\n",
       "      <td>7.810008e+06</td>\n",
       "    </tr>\n",
       "    <tr>\n",
       "      <th>19</th>\n",
       "      <td>2022-03-31</td>\n",
       "      <td>6.802110e+06</td>\n",
       "      <td>5.673350e+06</td>\n",
       "      <td>7.897459e+06</td>\n",
       "    </tr>\n",
       "    <tr>\n",
       "      <th>20</th>\n",
       "      <td>2022-04-30</td>\n",
       "      <td>6.879418e+06</td>\n",
       "      <td>5.711541e+06</td>\n",
       "      <td>7.947124e+06</td>\n",
       "    </tr>\n",
       "    <tr>\n",
       "      <th>21</th>\n",
       "      <td>2022-05-31</td>\n",
       "      <td>6.959304e+06</td>\n",
       "      <td>5.931701e+06</td>\n",
       "      <td>8.112888e+06</td>\n",
       "    </tr>\n",
       "    <tr>\n",
       "      <th>22</th>\n",
       "      <td>2022-06-30</td>\n",
       "      <td>7.036613e+06</td>\n",
       "      <td>5.764712e+06</td>\n",
       "      <td>8.069444e+06</td>\n",
       "    </tr>\n",
       "    <tr>\n",
       "      <th>23</th>\n",
       "      <td>2022-07-31</td>\n",
       "      <td>7.116498e+06</td>\n",
       "      <td>5.875364e+06</td>\n",
       "      <td>8.193511e+06</td>\n",
       "    </tr>\n",
       "    <tr>\n",
       "      <th>24</th>\n",
       "      <td>2022-08-31</td>\n",
       "      <td>7.196384e+06</td>\n",
       "      <td>6.112785e+06</td>\n",
       "      <td>8.277181e+06</td>\n",
       "    </tr>\n",
       "    <tr>\n",
       "      <th>25</th>\n",
       "      <td>2022-09-30</td>\n",
       "      <td>7.273693e+06</td>\n",
       "      <td>6.094058e+06</td>\n",
       "      <td>8.385537e+06</td>\n",
       "    </tr>\n",
       "  </tbody>\n",
       "</table>\n",
       "</div>"
      ],
      "text/plain": [
       "           ds          yhat    yhat_lower    yhat_upper\n",
       "0  2020-08-31  5.315207e+06  4.144010e+06  6.317164e+06\n",
       "1  2020-09-30  5.392515e+06  4.391392e+06  6.590526e+06\n",
       "2  2020-10-31  5.472401e+06  4.435152e+06  6.609868e+06\n",
       "3  2020-11-30  5.549709e+06  4.325570e+06  6.641105e+06\n",
       "4  2020-12-31  5.629595e+06  4.498888e+06  6.750311e+06\n",
       "5  2021-01-31  5.709481e+06  4.625937e+06  6.789874e+06\n",
       "6  2021-02-28  5.781635e+06  4.645667e+06  6.838455e+06\n",
       "7  2021-03-31  5.861521e+06  4.779303e+06  6.967639e+06\n",
       "8  2021-04-30  5.938830e+06  4.803735e+06  6.970715e+06\n",
       "9  2021-05-31  6.018715e+06  4.794366e+06  7.022207e+06\n",
       "10 2021-06-30  6.096024e+06  4.973284e+06  7.260471e+06\n",
       "11 2021-07-31  6.175910e+06  5.106650e+06  7.346775e+06\n",
       "12 2021-08-31  6.255795e+06  5.221863e+06  7.311133e+06\n",
       "13 2021-09-30  6.333104e+06  5.241963e+06  7.449520e+06\n",
       "14 2021-10-31  6.412989e+06  5.310897e+06  7.494052e+06\n",
       "15 2021-11-30  6.490298e+06  5.327243e+06  7.686301e+06\n",
       "16 2021-12-31  6.570184e+06  5.453591e+06  7.653313e+06\n",
       "17 2022-01-31  6.650069e+06  5.599900e+06  7.734326e+06\n",
       "18 2022-02-28  6.722224e+06  5.784330e+06  7.810008e+06\n",
       "19 2022-03-31  6.802110e+06  5.673350e+06  7.897459e+06\n",
       "20 2022-04-30  6.879418e+06  5.711541e+06  7.947124e+06\n",
       "21 2022-05-31  6.959304e+06  5.931701e+06  8.112888e+06\n",
       "22 2022-06-30  7.036613e+06  5.764712e+06  8.069444e+06\n",
       "23 2022-07-31  7.116498e+06  5.875364e+06  8.193511e+06\n",
       "24 2022-08-31  7.196384e+06  6.112785e+06  8.277181e+06\n",
       "25 2022-09-30  7.273693e+06  6.094058e+06  8.385537e+06"
      ]
     },
     "execution_count": 13,
     "metadata": {},
     "output_type": "execute_result"
    }
   ],
   "source": [
    "forecast_multivariate[['ds', 'yhat', 'yhat_lower', 'yhat_upper']]"
   ]
  },
  {
   "cell_type": "markdown",
   "metadata": {
    "id": "6R56gMfflvua"
   },
   "source": [
    "# References"
   ]
  },
  {
   "cell_type": "markdown",
   "metadata": {
    "id": "vHDWii_1qQfw"
   },
   "source": [
    "[1] [Prophet Documentation](https://facebook.github.io/prophet/docs/seasonality,_holiday_effects,_and_regressors.html)"
   ]
  }
 ],
 "metadata": {
  "colab": {
   "provenance": [
    {
     "file_id": "1_ct3SFOb_RBMAx1G496h1cKd_FOXyJlH",
     "timestamp": 1666949267646
    },
    {
     "file_id": "1Q10bzMzxQLjo7Ltrd3pqJJEsMAKU3vi3",
     "timestamp": 1653007173680
    }
   ]
  },
  "kernelspec": {
   "display_name": "six_project",
   "language": "python",
   "name": "six_project"
  },
  "language_info": {
   "codemirror_mode": {
    "name": "ipython",
    "version": 3
   },
   "file_extension": ".py",
   "mimetype": "text/x-python",
   "name": "python",
   "nbconvert_exporter": "python",
   "pygments_lexer": "ipython3",
   "version": "3.9.12"
  }
 },
 "nbformat": 4,
 "nbformat_minor": 4
}
