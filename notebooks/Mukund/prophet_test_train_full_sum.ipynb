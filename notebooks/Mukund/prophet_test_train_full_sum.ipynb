{
 "cells": [
  {
   "cell_type": "markdown",
   "metadata": {},
   "source": [
    "# Use FB Prophet for Time-series Forecasting: Six Group merchant trasactions\n",
    "\n",
    "Prophet is an open source library developed by Facebook which aims to make time-series forecasting easy and scalable. It is a type of a generalized additive model (GAM), which uses regression model with potentially non-linear smoothers. It is called additive because it addes multiple decomposed parts to explain some trends. For example, Prophet uses the following components: \n",
    "\n",
    "$$ y(t) = g(t) + s(t) + h(t) + e(t) $$\n",
    "\n",
    "where,  \n",
    "$g(t)$: Growth. Big trend. Non-periodic changes.   \n",
    "$s(t)$: Sesonality. Periodic changes (e.g. weekly, yearly, etc.) represented by Fourier Series.  \n",
    "$h(t)$: Holiday effect that represents irregular schedules.   \n",
    "$e(t)$: Error. Any idiosyncratic changes not explained by the model. \n",
    "\n",
    "# Table of Contents \n",
    "1. [Prepare Data](#prep)\n",
    "2. [Train And Predict](#train)\n",
    "3. [Check Components](#components)\n",
    "4. [Evaluate](#eval)\n",
    "5. [Trend Change Points](#trend)\n",
    "6. [Seasonality Mode](#season)\n",
    "7. [Saving Model](#save)\n",
    "8. [References](#ref)"
   ]
  },
  {
   "cell_type": "markdown",
   "metadata": {},
   "source": [
    "<a id=prep></a>\n",
    "# 1. Prepare Data\n",
    "\n",
    "The goal of the time series model is to predict the six group merchant transactions. Prophet requires at least two columns as inputs: a ds column and a y column.\n",
    "\n",
    " * The ds column has the time information. Currently we have the date as the index, so we name this index as ds.\n",
    " * The y column has the time series transaction values. In this example, because we are predicting six group merchant transactions, the column name for the transactions is named y."
   ]
  },
  {
   "cell_type": "code",
   "execution_count": null,
   "metadata": {},
   "outputs": [],
   "source": [
    "# importing packages\n",
    "import json\n",
    "import pandas as pd\n",
    "import matplotlib.pyplot as plt\n",
    "from statsmodels.tools.eval_measures import rmse\n",
    "\n",
    "# prophet functionalities we will explore\n",
    "from prophet import Prophet\n",
    "from prophet.plot import add_changepoints_to_plot, plot_cross_validation_metric\n",
    "from prophet.diagnostics import cross_validation, performance_metrics \n",
    "from prophet.serialize import model_to_json, model_from_json\n",
    "# Model performance evaluation\n",
    "import sklearn\n",
    "# import the math module \n",
    "import math \n",
    "# to mute Pandas warnings Prophet needs to fix\n",
    "import warnings\n",
    "warnings.simplefilter(action='ignore', category=FutureWarning)"
   ]
  },
  {
   "cell_type": "code",
   "execution_count": null,
   "metadata": {},
   "outputs": [],
   "source": [
    "# you need to change the file path\n",
    "data_path = \"../data/ninety_sum.csv\"\n",
    "df = pd.read_csv(data_path)"
   ]
  },
  {
   "cell_type": "code",
   "execution_count": null,
   "metadata": {},
   "outputs": [],
   "source": [
    "df.columns = ['ds', 'y']\n",
    "df.head()"
   ]
  },
  {
   "cell_type": "code",
   "execution_count": null,
   "metadata": {},
   "outputs": [],
   "source": [
    "# plot raw data \n",
    "fig, ax = plt.subplots(figsize=(12, 7))\n",
    "plt.plot(df['ds'], df['y'])\n",
    "plt.xlabel('Time period')\n",
    "plt.ylabel('No of Transactions')\n",
    "plt.title('Six Group: No of Transactions vs Time period')\n",
    "plt.grid(True)\n",
    "plt.tight_layout()\n",
    "plt.show()"
   ]
  },
  {
   "cell_type": "markdown",
   "metadata": {},
   "source": [
    "For train test split, do not forget that we cannot do a random split for time-series data. We use ONLY the earlier part of data for training and the later parts of data for testing given a cut-off point. Here, let's use 2019/1/1 as our cut-off point. "
   ]
  },
  {
   "cell_type": "code",
   "execution_count": null,
   "metadata": {},
   "outputs": [],
   "source": [
    "# Train test split the date need to be changed \n",
    "train_end_date = '2022-04-30'\n",
    "# split data \n",
    "train = df[df['ds'] <= train_end_date]\n",
    "test = df[df['ds'] > train_end_date]"
   ]
  },
  {
   "cell_type": "code",
   "execution_count": null,
   "metadata": {},
   "outputs": [],
   "source": [
    "print(f\"Number of months in train data: {len(train)}\")\n",
    "print(f\"Number of months in test data: {len(test)}\")"
   ]
  },
  {
   "cell_type": "markdown",
   "metadata": {},
   "source": [
    "<a id=train></a>\n",
    "# 2. Train And Predict\n",
    "\n",
    "Let's train a Prophet model. You just initialize an object and `fit`! \n",
    "\n",
    "Prophet warns that it disabled weekly and daily seasonaility. That's fine because our data set is monthly and does not have more granular interval to capture weekly or daily seasonality."
   ]
  },
  {
   "cell_type": "code",
   "execution_count": null,
   "metadata": {},
   "outputs": [],
   "source": [
    "# fit model - ignore train/test split for now \n",
    "m = Prophet(interval_width=0.99, seasonality_mode='multiplicative')\n",
    "m.fit(train)"
   ]
  },
  {
   "cell_type": "markdown",
   "metadata": {},
   "source": [
    "When making predictions with Prophet, we need to prepare a special object called future dataframe. It is a Pandas DataFrame with a single column `ds` that includes all datetime within the training data plus additional periods given by user. \n",
    "\n",
    "The parameter `periods` is basically the number of points (rows) to predict after the end of the training data. The interval (parameter `freq`) is set to 'D' (day) by default, so we need to adjust it to 'MS' (month start) as our data is monthly. I set `periods=7` as it is the number points in the test data."
   ]
  },
  {
   "cell_type": "code",
   "execution_count": null,
   "metadata": {},
   "outputs": [],
   "source": [
    "# future dataframe - placeholder object\n",
    "future = m.make_future_dataframe(periods=len(test), freq='M')  # one period = one row = 1 month with freq='MS'"
   ]
  },
  {
   "cell_type": "code",
   "execution_count": null,
   "metadata": {},
   "outputs": [],
   "source": [
    "# start of the future df is same as the original data \n",
    "future.head()"
   ]
  },
  {
   "cell_type": "code",
   "execution_count": null,
   "metadata": {},
   "outputs": [],
   "source": [
    "# end of the future df is original + 21 periods (21 months)\n",
    "future.tail()"
   ]
  },
  {
   "cell_type": "markdown",
   "metadata": {},
   "source": [
    "It's time to make actual predictions. It's simple - just `predict` with the placeholder DataFrame `future`. "
   ]
  },
  {
   "cell_type": "code",
   "execution_count": null,
   "metadata": {},
   "outputs": [],
   "source": [
    "# predict the future\n",
    "forecast = m.predict(future)\n",
    "m.plot(forecast); # Add semi-colon to remove the duplicated chart"
   ]
  },
  {
   "cell_type": "markdown",
   "metadata": {},
   "source": [
    "Prophet has a nice built-in plotting function to visualize forecast data. Black dots are for actual data and blue lines are prediction. You can also use matplotlib functions to adjust the figure, such as adding legend or adding xlim or ylim."
   ]
  },
  {
   "cell_type": "code",
   "execution_count": null,
   "metadata": {},
   "outputs": [],
   "source": [
    "# Prophet's own plotting tool to see \n",
    "fig = m.plot(forecast)\n",
    "plt.legend(['Actual', 'Prediction', 'Uncertainty interval'])\n",
    "plt.show()"
   ]
  },
  {
   "cell_type": "markdown",
   "metadata": {},
   "source": [
    "<a id=components></a>\n",
    "# 3. Check Components"
   ]
  },
  {
   "cell_type": "markdown",
   "metadata": {},
   "source": [
    "So, what is in our forecast data? Let's take a look."
   ]
  },
  {
   "cell_type": "code",
   "execution_count": null,
   "metadata": {
    "scrolled": true
   },
   "outputs": [],
   "source": [
    "forecast.head()"
   ]
  },
  {
   "cell_type": "markdown",
   "metadata": {},
   "source": [
    "There are many components in it but the main thing that you would care about is `yhat` which has the final predictions. `_lower` and `_upper` flags are for uncertainty intervals. \n",
    "\n",
    "- Final predictions: `yhat`, `yhat_lower`, and `yhat_upper`\n",
    "\n",
    "Other columns are components that comprise the final prediction as we discussed in the introduction. Let's compare Prophet's additive components and what we see in our forecast DataFrame. \n",
    "\n",
    "$$y(t) = g(t) + s(t) + h(t) + e(t) $$\n",
    "\n",
    "- Growth ($g(t)$): `trend`, `trend_lower`, and `trend_upper`\n",
    "- Sesonality ($s(t)$): `additive_terms`, `additive_terms_lower`, and `additive_terms_upper`\n",
    "    - Yearly seasonality: `yearly`, `yearly_lower`, and`yearly_upper`\n",
    "\n",
    "The `additive_terms` represent the total seasonality effect, which is the same as yearly seasonality as we disabled weekly and daily seasonalities. All `multiplicative_terms` are zero because we used additive seasonality mode by default instead of multiplicative seasonality mode, which I will explain later.\n",
    "\n",
    "Holiday effect ($h(t)$) is also not represented here as it's hourly data and we did not specify holidays for this data.\n",
    "\n",
    "Prophet also has a nice built-in function for plotting each component. When we plot our forecast data, we see two components; general growth trend and yearly seasonality that appears throughout the years. "
   ]
  },
  {
   "cell_type": "code",
   "execution_count": null,
   "metadata": {},
   "outputs": [],
   "source": [
    "# plot components\n",
    "fig = m.plot_components(forecast)"
   ]
  },
  {
   "cell_type": "markdown",
   "metadata": {},
   "source": [
    "<a id=\"eval\"></a>\n",
    "# 4. Evaluate "
   ]
  },
  {
   "cell_type": "markdown",
   "metadata": {},
   "source": [
    "## 4.1. Evaluate the model on one test set"
   ]
  },
  {
   "cell_type": "markdown",
   "metadata": {},
   "source": [
    "So, how good is our model? One way we can understand the model performance in this case is to simply calculate the root mean squared error (RMSE) between the actual and predicted values of the above test period."
   ]
  },
  {
   "cell_type": "code",
   "execution_count": null,
   "metadata": {},
   "outputs": [],
   "source": [
    "predictions = forecast.iloc[-len(test):]['yhat']\n",
    "actuals = test['y']\n",
    "\n",
    "print(f\"RMSE: {round(rmse(predictions, actuals))}\")"
   ]
  },
  {
   "cell_type": "markdown",
   "metadata": {},
   "source": [
    "## 4.2. Cross validation"
   ]
  },
  {
   "cell_type": "markdown",
   "metadata": {},
   "source": [
    "Alternatively, we can perform cross validation. As previously discussed, time-series analysis strictly uses train data whose time range is always earlier than that of test data. Below is an example where we use 5 years of train data to predict 1 year of test data. Each cut-off point is equally spaced with 1 year gap."
   ]
  },
  {
   "cell_type": "markdown",
   "metadata": {},
   "source": [
    "Prophet also provides built-in model diagnostics tools to make it easy to perform this cross validation. You just need to define three parameters: horizon, initial, and period. The latter two are optional. \n",
    "\n",
    "Make sure to define these parameters in straing and in this format: 'X unit'. X is the number and unit is 'days' or 'secs', etc. that is compatiable with `pd.Timedelta`."
   ]
  },
  {
   "cell_type": "code",
   "execution_count": null,
   "metadata": {},
   "outputs": [],
   "source": [
    "# horizon = test period of each fold\n",
    "horizon = '91 days'\n",
    "\n",
    "# initial: training period. (optional. default is 3x of horizon)\n",
    "initial = str(91 * 2) + ' days'  \n",
    "\n",
    "# period: spacing between cutoff dates (optional. default is 0.5x of horizon)\n",
    "period = str(91 * 2) + ' days' \n",
    "\n",
    "df_cv = cross_validation(m, initial=initial, period=period, horizon=horizon)"
   ]
  },
  {
   "cell_type": "markdown",
   "metadata": {},
   "source": [
    "This is the predicted output using cross validation. When there are many predictions for the same timestamp due to overlapping test periods is case of `period` shorter than `horizon`, Prophet will use the ones predicted using the latest data."
   ]
  },
  {
   "cell_type": "code",
   "execution_count": null,
   "metadata": {},
   "outputs": [],
   "source": [
    "# predicted output using cross validation\n",
    "df_cv"
   ]
  },
  {
   "cell_type": "markdown",
   "metadata": {},
   "source": [
    "Below is different performance metrics for different rolling windows. As we did not define any rolling window, Prophet went ahead and calculated many different combinations and stacked up in rows. Each metrics are first calculated within each rolling window and then averaged across many available windows. "
   ]
  },
  {
   "cell_type": "code",
   "execution_count": null,
   "metadata": {},
   "outputs": [],
   "source": [
    "# performance metrics  \n",
    "df_metrics = performance_metrics(df_cv)  # can define window size, e.g. rolling_window=365\n",
    "df_metrics"
   ]
  },
  {
   "cell_type": "markdown",
   "metadata": {},
   "source": [
    "<a id=\"trend\"></a>\n",
    "# 5. Trend Change Points\n",
    "\n",
    "Another interesting functionality of `Prophet` is `add_changepoints_to_plot`. As we discussed in the earlier sections, there are a couple of points where the growth rate changes. Prophet can find those points automatically and plot them!"
   ]
  },
  {
   "cell_type": "code",
   "execution_count": null,
   "metadata": {},
   "outputs": [],
   "source": [
    "# plot change points\n",
    "fig = m.plot(forecast)\n",
    "a = add_changepoints_to_plot(fig.gca(), m, forecast)"
   ]
  },
  {
   "cell_type": "markdown",
   "metadata": {},
   "source": [
    "<a id=season></a>\n",
    "# 6. Seasonality Mode\n",
    "\n",
    "The growth in trend can be additive (rate of change is linear) or multiplicative (rate changes over time). When you see the original data below, the amplitude of seasonality of the data is changing - smaller in the early years and bigger in the later years. So, this would be `multiplicative` growth case rather than `additive` growth case. We can adjust the `seasonality` parameter so we can take into account this effect. "
   ]
  },
  {
   "cell_type": "code",
   "execution_count": null,
   "metadata": {},
   "outputs": [],
   "source": [
    "# additive mode\n",
    "m = Prophet(seasonality_mode='additive', weekly_seasonality=False, daily_seasonality=False)\n",
    "m.fit(df)\n",
    "# make a future data frame for the next 20 months\n",
    "future_months = 20\n",
    "future = m.make_future_dataframe(future_months, freq='MS')\n",
    "forecast = m.predict(future)\n",
    "fig = m.plot(forecast)\n",
    "plt.title('Additive seasonality')"
   ]
  },
  {
   "cell_type": "code",
   "execution_count": null,
   "metadata": {},
   "outputs": [],
   "source": [
    "# multiplicative mode\n",
    "m = Prophet(seasonality_mode='multiplicative', weekly_seasonality=False, daily_seasonality=False)\n",
    "m.fit(df)\n",
    "future = m.make_future_dataframe(future_months, freq='MS')\n",
    "forecast = m.predict(future)\n",
    "fig = m.plot(forecast)\n",
    "plt.title('Multiplicative seasonality')"
   ]
  },
  {
   "cell_type": "markdown",
   "metadata": {},
   "source": [
    "<a id=save></a>\n",
    "# 7. Saving Model\n",
    "\n",
    "We can also easily export and load the trained model as json."
   ]
  },
  {
   "cell_type": "code",
   "execution_count": null,
   "metadata": {},
   "outputs": [],
   "source": [
    "# Save model\n",
    "with open('serialized_model.json', 'w') as fout:\n",
    "    json.dump(model_to_json(m), fout)\n",
    "\n",
    "# Load model\n",
    "with open('serialized_model.json', 'r') as fin:\n",
    "    m = model_from_json(json.load(fin))  "
   ]
  },
  {
   "cell_type": "markdown",
   "metadata": {},
   "source": [
    "<a id=ref></a>\n",
    "# 8. References"
   ]
  },
  {
   "cell_type": "markdown",
   "metadata": {},
   "source": [
    "[1] [Prophet Documentation](https://facebook.github.io/prophet/docs/seasonality,_holiday_effects,_and_regressors.html)"
   ]
  }
 ],
 "metadata": {
  "kernelspec": {
   "display_name": "six_project",
   "language": "python",
   "name": "six_project"
  },
  "language_info": {
   "codemirror_mode": {
    "name": "ipython",
    "version": 3
   },
   "file_extension": ".py",
   "mimetype": "text/x-python",
   "name": "python",
   "nbconvert_exporter": "python",
   "pygments_lexer": "ipython3",
   "version": "3.9.12"
  }
 },
 "nbformat": 4,
 "nbformat_minor": 4
}
