{
 "cells": [
  {
   "cell_type": "markdown",
   "id": "a052b422-f8d7-4628-b0d7-c6ff45e3528a",
   "metadata": {},
   "source": [
    "# Getting Started with ETS"
   ]
  },
  {
   "cell_type": "markdown",
   "id": "31149069-45fa-4545-8509-46145ba3fbc0",
   "metadata": {},
   "source": [
    "Automatic forecasting tools tackle the needs for predictions over large collections of univariate time series that often arise in business practice and other contexts. Among these solutions, R's forecasting package `ets` has been a reference for their accuracy and high quality for many years.\n",
    "\n",
    "Unfortunately, baselines with their accuracy and computational efficiency were not available for Python yet. For this reason, we developed our new and highly efficient pure-Python implementation of these classic algorithms that we showcase in this notebook.\n"
   ]
  },
  {
   "cell_type": "code",
   "execution_count": null,
   "id": "8e605c84-05f8-4545-8fa8-1e6a0508b410",
   "metadata": {},
   "outputs": [],
   "source": [
    "import numpy as np\n",
    "import pandas as pd\n",
    "from IPython.display import display, Markdown\n",
    "from tqdm.autonotebook import tqdm\n",
    "import matplotlib.pyplot as plt\n",
    "from statsforecast import StatsForecast\n",
    "from statsforecast.models import AutoARIMA, ETS"
   ]
  },
  {
   "cell_type": "markdown",
   "id": "dad9796d-c98d-4c4a-8272-bdda6c196fc4",
   "metadata": {},
   "source": [
    "## Loading six group merchants Data"
   ]
  },
  {
   "cell_type": "code",
   "execution_count": null,
   "id": "cb741920-109e-4daa-8f00-51d099148d65",
   "metadata": {},
   "outputs": [],
   "source": [
    "# you need to change the data path\n",
    "data_path = \"../../../data/raw/Time_Series_Merchants_Transactions_Anonymized.csv\"\n",
    "df_merchant_transactions = pd.read_csv(data_path)"
   ]
  },
  {
   "cell_type": "code",
   "execution_count": null,
   "id": "910187d6-de33-463a-9d45-99ea3e350e6c",
   "metadata": {},
   "outputs": [],
   "source": [
    "df_merchant_transactions = df_merchant_transactions.drop(columns='Merchant Name')"
   ]
  },
  {
   "cell_type": "code",
   "execution_count": null,
   "id": "0b28d8f9-6661-4246-82c6-7647a62126bc",
   "metadata": {},
   "outputs": [],
   "source": [
    "# replacing columns names with standard date format\n",
    "stddates = pd.date_range(start='2020-08', end='2022-10', freq=\"M\")\n",
    "df_merchant_transactions.columns = stddates\n",
    "df_merchant_transactions.head()\n",
    "#stddates"
   ]
  },
  {
   "cell_type": "code",
   "execution_count": null,
   "id": "6f0d37c6-a791-425e-a99f-3357941b7e2e",
   "metadata": {},
   "outputs": [],
   "source": [
    "df= {\n",
    "    'unique_id':[1.0,1.0,1.0,1.0,1.0,\n",
    "                1.0,1.0,1.0,1.0,1.0,\n",
    "                1.0,1.0,1.0,1.0,1.0,\n",
    "                1.0,1.0,1.0,1.0,1.0,\n",
    "                1.0,1.0,1.0,1.0,1.0,1.0],\n",
    "    'ds':stddates,\n",
    "    'y' :df_merchant_transactions.iloc[7,:].values\n",
    "      }\n",
    "Y_df = pd.DataFrame(df)\n",
    "Y_df.head()"
   ]
  },
  {
   "cell_type": "markdown",
   "id": "fd36a049-a2f4-4640-a227-c823e0f3bfb3",
   "metadata": {},
   "source": [
    "## Fit AutoETS"
   ]
  },
  {
   "cell_type": "markdown",
   "id": "642d42ab-6d7c-4b01-bfa5-3db07e4fab8b",
   "metadata": {},
   "source": [
    "**ETS:** The exponential smoothing (ETS) algorithm is especially suited for data with seasonality and trend. ETS computes a weighted average over all observations in the input time series dataset as its prediction. In contrast to moving average methods with constant weights, ETS weights exponentially decrease over time, capturing long term dependencies while prioritizing new observations."
   ]
  },
  {
   "cell_type": "code",
   "execution_count": null,
   "id": "fbed9d52-7ab6-4159-be0d-11863fd629ce",
   "metadata": {},
   "outputs": [],
   "source": [
    "Y_train_df = Y_df[Y_df[\"ds\"]<=\"2022-04-30\"] # 18 train\n",
    "Y_test_df = Y_df[Y_df[\"ds\"]>\"2022-04-30\"] # 8 test"
   ]
  },
  {
   "cell_type": "code",
   "execution_count": null,
   "id": "2b676664-494f-462d-bb78-a25d8f5cc545",
   "metadata": {},
   "outputs": [],
   "source": [
    "season_length = 12\n",
    "horizon = len(Y_test_df)\n",
    "models = [\n",
    "    ETS(season_length=season_length, model='ZMZ')\n",
    "]\n",
    "model = StatsForecast(\n",
    "    df=Y_train_df, \n",
    "    models=models,\n",
    "    freq='M', \n",
    "    n_jobs=-1,\n",
    ")\n",
    "\n",
    "Y_hat_df = model.forecast(horizon).reset_index()\n",
    "Y_hat_df.head()"
   ]
  },
  {
   "cell_type": "markdown",
   "id": "7618e266-69ab-4190-9c6a-c69d1f740bbb",
   "metadata": {},
   "source": [
    "## Plot and Evaluate Predictions"
   ]
  },
  {
   "cell_type": "markdown",
   "id": "b933d35b-7132-48c0-ab5b-5eb86362e120",
   "metadata": {},
   "source": [
    "We are going to plot the models againts the real values of test."
   ]
  },
  {
   "cell_type": "code",
   "execution_count": null,
   "id": "f9237b20-50a8-468b-b9b0-418d6d33fed2",
   "metadata": {},
   "outputs": [],
   "source": [
    "fig, ax = plt.subplots(1, 1, figsize = (20, 7))\n",
    "Y_hat_df = Y_test_df.merge(Y_hat_df, how='left', on=['unique_id', 'ds'])\n",
    "plot_df = pd.concat([Y_train_df, Y_hat_df]).set_index('ds')\n",
    "\n",
    "plot_df[['y', 'ETS']].plot(ax=ax, linewidth=2)\n",
    "\n",
    "ax.set_title('Merchants Transactions Forecast', fontsize=22)\n",
    "ax.set_ylabel('Monthly Transactions', fontsize=20)\n",
    "ax.set_xlabel('Timestamp [t]', fontsize=20)\n",
    "ax.legend(prop={'size': 15})\n",
    "ax.grid()"
   ]
  },
  {
   "cell_type": "markdown",
   "id": "520fec57-102c-437c-bcb7-5ddbf8785bc7",
   "metadata": {},
   "source": [
    "Finally, we evaluate the predictions accuracy using the Mean Absolute Error:\n",
    "\n",
    "$$\n",
    "\\qquad MAE = \\frac{1}{Horizon} \\sum_{\\tau} |y_{\\tau} - \\hat{y}_{\\tau}|\\qquad\n",
    "$$"
   ]
  },
  {
   "cell_type": "code",
   "execution_count": null,
   "id": "a9bad715-6294-4418-a135-30bb2441303e",
   "metadata": {},
   "outputs": [],
   "source": [
    "def mae(y_hat, y_true):\n",
    "    return np.mean(np.abs(y_hat-y_true))\n",
    "\n",
    "y_true = Y_test_df['y'].values\n",
    "ets_preds = Y_hat_df['ETS'].values\n",
    "\n",
    "print('ETS   MAE: %0.3f' % mae(ets_preds, y_true))"
   ]
  }
 ],
 "metadata": {
  "kernelspec": {
   "display_name": "six_project",
   "language": "python",
   "name": "six_project"
  },
  "language_info": {
   "codemirror_mode": {
    "name": "ipython",
    "version": 3
   },
   "file_extension": ".py",
   "mimetype": "text/x-python",
   "name": "python",
   "nbconvert_exporter": "python",
   "pygments_lexer": "ipython3",
   "version": "3.9.12"
  }
 },
 "nbformat": 4,
 "nbformat_minor": 5
}
