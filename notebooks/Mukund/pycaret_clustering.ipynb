{
 "cells": [
  {
   "cell_type": "markdown",
   "id": "5c5a7fc7-1115-4fff-b854-db1e72afc4af",
   "metadata": {},
   "source": [
    "# Pycaret Clustering"
   ]
  },
  {
   "cell_type": "markdown",
   "id": "86c6ef54-e9c3-432f-8eb3-ba30b5165fe8",
   "metadata": {},
   "source": [
    "## Prepare Data"
   ]
  },
  {
   "cell_type": "code",
   "execution_count": null,
   "id": "ebdf19be-1dc3-4549-ad95-4daa737d95fd",
   "metadata": {},
   "outputs": [],
   "source": [
    "# Prophet model for time series forecast\n",
    "from prophet import Prophet\n",
    "\n",
    "# Data processing\n",
    "import numpy as np\n",
    "import pandas as pd\n",
    "import os \n",
    "\n",
    "# Visualization\n",
    "import seaborn as sns\n",
    "import matplotlib.pyplot as plt\n",
    "\n",
    "# clustering \n",
    "from pycaret.clustering import *"
   ]
  },
  {
   "cell_type": "code",
   "execution_count": null,
   "id": "20f499d7-fb3c-48fa-99b7-fa3809c4a143",
   "metadata": {},
   "outputs": [],
   "source": [
    "data_path = \"../../../data/raw/Time_Series_Merchants_Transactions_Anonymized.csv\"\n",
    "data = pd.read_csv(data_path)\n",
    "data.head()"
   ]
  },
  {
   "cell_type": "code",
   "execution_count": null,
   "id": "c37b42ed-a125-4aa5-9f1f-28e2b5fc485a",
   "metadata": {},
   "outputs": [],
   "source": [
    "# counting the merchants containing transactions\n",
    "# with more than 23 zeros out of 26 (months)\n",
    "zero_count = []\n",
    "counter = 0\n",
    "for i in range(len(data)): \n",
    "    # Get the count of Zeros in row\n",
    "    count = data.iloc[i,:].isin([0]).sum()\n",
    "    zero_count.append(count)\n",
    "    if(count > 23):\n",
    "        counter += 1\n",
    "counter"
   ]
  },
  {
   "cell_type": "code",
   "execution_count": null,
   "id": "84634f66-47ea-4aba-aaa0-b47de567be88",
   "metadata": {},
   "outputs": [],
   "source": [
    "# removingthe merchants containing transactions\n",
    "# with more than 23 zeros out of 26 (months) from the dataframe\n",
    "for i in range(len(data)): \n",
    "    if zero_count[i] > 24:\n",
    "        merchant_id = 'Merchant '+ str(i+1)\n",
    "        #print(merchant_id)\n",
    "        data.drop(data.index[data['Merchant Name'] == merchant_id], inplace = True)\n",
    "data.shape"
   ]
  },
  {
   "cell_type": "code",
   "execution_count": null,
   "id": "c0df5ec0-212d-4c72-9382-7e83584b600b",
   "metadata": {},
   "outputs": [],
   "source": [
    "from sklearn.preprocessing import StandardScaler, MinMaxScaler\n",
    "# define StandardScaler scaler\n",
    "scaler = MinMaxScaler()\n",
    "# transform data\n",
    "dataset_np = scaler.fit_transform(data.drop(columns='Merchant Name'))"
   ]
  },
  {
   "cell_type": "code",
   "execution_count": null,
   "id": "7625e633-8cc3-4326-ab65-23854c0a6d75",
   "metadata": {},
   "outputs": [],
   "source": [
    "dataset = pd.DataFrame(dataset_np)\n",
    "dataset.head()"
   ]
  },
  {
   "cell_type": "code",
   "execution_count": null,
   "id": "bf87644e-e2f4-454e-8802-44527fe7ad55",
   "metadata": {},
   "outputs": [],
   "source": [
    "# replacing columns names with standard date format\n",
    "stddates = pd.date_range(start='2020-08', end='2022-10', freq=\"M\")\n",
    "dataset.columns = stddates"
   ]
  },
  {
   "cell_type": "code",
   "execution_count": null,
   "id": "9bed7f78-6913-446b-b0ee-1e01bc9f6717",
   "metadata": {},
   "outputs": [],
   "source": [
    "data = data.drop(columns='Merchant Name')\n",
    "data.head()"
   ]
  },
  {
   "cell_type": "code",
   "execution_count": null,
   "id": "65ae9e38-e9ff-4a5c-abed-d27941afd7b9",
   "metadata": {},
   "outputs": [],
   "source": [
    "data.columns = range(data.shape[1])   \n",
    "data.head()"
   ]
  },
  {
   "cell_type": "markdown",
   "id": "05c88a6b-f41e-4c59-a649-3b39b0a5f44e",
   "metadata": {},
   "source": [
    "## Setting up Environment in PyCaret"
   ]
  },
  {
   "cell_type": "code",
   "execution_count": null,
   "id": "6675b4ec-bcee-422d-a505-38580bb637e0",
   "metadata": {},
   "outputs": [],
   "source": [
    "#!pip install scikit-learn==0.23.2"
   ]
  },
  {
   "cell_type": "code",
   "execution_count": null,
   "id": "2db9b4a3-509e-479b-a0ab-07fd1ad4dd9c",
   "metadata": {},
   "outputs": [],
   "source": [
    "# press enter when the screen hangs to proceed\n",
    "exp_cluster = setup(data, normalize = True, \n",
    "                   session_id = 123)"
   ]
  },
  {
   "cell_type": "markdown",
   "id": "3a4612c4-27dd-4ced-a50f-1973166346bf",
   "metadata": {},
   "source": [
    "## Create a Model"
   ]
  },
  {
   "cell_type": "markdown",
   "id": "a4d43681-1920-48e7-82c8-2330378ee293",
   "metadata": {},
   "source": [
    "### K-means clustering"
   ]
  },
  {
   "cell_type": "code",
   "execution_count": null,
   "id": "f9fbd5fc-a682-4418-b2ba-9b58be342904",
   "metadata": {},
   "outputs": [],
   "source": [
    "kmeans = create_model('kmeans')#, num_clusters = 10)"
   ]
  },
  {
   "cell_type": "code",
   "execution_count": null,
   "id": "f34cfe1a-1bfb-4f73-a9fb-d68bd513c5c7",
   "metadata": {},
   "outputs": [],
   "source": [
    "plot_model(kmeans, 'cluster')"
   ]
  },
  {
   "cell_type": "code",
   "execution_count": null,
   "id": "0263f938-89e7-4037-89ec-b9d7a32c836c",
   "metadata": {},
   "outputs": [],
   "source": [
    "plot_model(kmeans, plot = 'elbow')"
   ]
  },
  {
   "cell_type": "code",
   "execution_count": null,
   "id": "c450c56d-2933-4791-8878-5121eedfae58",
   "metadata": {},
   "outputs": [],
   "source": [
    "plot_model(kmeans, plot = 'silhouette')"
   ]
  },
  {
   "cell_type": "code",
   "execution_count": null,
   "id": "520a68cf-f1e3-4261-add5-6011d89d49b3",
   "metadata": {},
   "outputs": [],
   "source": [
    "plot_model(kmeans, plot = 'distribution') #to see size of clusters"
   ]
  },
  {
   "cell_type": "code",
   "execution_count": null,
   "id": "acc2822f-2bdc-4fef-8cce-6e478da9cc41",
   "metadata": {},
   "outputs": [],
   "source": [
    "kmeans_results = assign_model(kmeans)\n",
    "#kmeans_results['Cluster'].to_csv('kmeans_clustering.csv')#"
   ]
  },
  {
   "cell_type": "markdown",
   "id": "8e98cdb9-fa11-43ae-9c89-f56ebdd8f9de",
   "metadata": {},
   "source": [
    "### K-modes clustering"
   ]
  },
  {
   "cell_type": "code",
   "execution_count": null,
   "id": "d7150cff-2b4c-4f26-a3f3-336832a1a8cd",
   "metadata": {},
   "outputs": [],
   "source": [
    "kmodes = create_model('kmodes')#, num_clusters = 20)"
   ]
  },
  {
   "cell_type": "markdown",
   "id": "d4cf1919-8ee3-4c45-b06d-c2a654b77c3a",
   "metadata": {},
   "source": [
    "### Assign a Model"
   ]
  },
  {
   "cell_type": "code",
   "execution_count": null,
   "id": "d50bea27-4421-4bb6-acef-610a22169076",
   "metadata": {},
   "outputs": [],
   "source": [
    "kmode_results = assign_model(kmodes)\n",
    "kmode_results['Cluster'].head()"
   ]
  },
  {
   "cell_type": "code",
   "execution_count": null,
   "id": "08dea016-4ed8-4dad-8683-8b8d36d18586",
   "metadata": {},
   "outputs": [],
   "source": [
    "#kmode_results['Cluster'].to_csv('kmodes_clustering.csv')#"
   ]
  },
  {
   "cell_type": "markdown",
   "id": "4eb017dd-e550-488c-ae34-ed772aaf6837",
   "metadata": {},
   "source": [
    "### Plot a Model"
   ]
  },
  {
   "cell_type": "markdown",
   "id": "040322a5-94fa-4121-8fed-912c3fbca088",
   "metadata": {},
   "source": [
    "The plot_model() function can be used to analyze different aspects of the clustering model. This function takes a trained model object and returns a plot. "
   ]
  },
  {
   "cell_type": "markdown",
   "id": "c3039464-7c69-4c80-aaaf-56fbf07622ba",
   "metadata": {},
   "source": [
    "### Cluster PCA Plot"
   ]
  },
  {
   "cell_type": "code",
   "execution_count": null,
   "id": "cd6fd933-a629-4511-bb64-35ae29479dda",
   "metadata": {},
   "outputs": [],
   "source": [
    "plot_model(kmodes, 'cluster')"
   ]
  },
  {
   "cell_type": "markdown",
   "id": "38c88231-3034-491e-b32b-dfcb23bb58d8",
   "metadata": {},
   "source": [
    "### Elbow Plot"
   ]
  },
  {
   "cell_type": "code",
   "execution_count": null,
   "id": "289ef308-39a3-4ba0-b2dd-d57bb7fd41ef",
   "metadata": {},
   "outputs": [],
   "source": [
    "plot_model(kmodes, plot = 'elbow')"
   ]
  },
  {
   "cell_type": "markdown",
   "id": "fe43c11a-b595-44c7-b77b-a12e1058a429",
   "metadata": {},
   "source": [
    "### Silhouette Plot"
   ]
  },
  {
   "cell_type": "code",
   "execution_count": null,
   "id": "e5bd8986-9fc1-4bf0-bc56-d45cd8f08332",
   "metadata": {},
   "outputs": [],
   "source": [
    "plot_model(kmodes, plot = 'silhouette')"
   ]
  },
  {
   "cell_type": "markdown",
   "id": "eb5afaa3-e9b1-49e1-b0cd-0b9323f19600",
   "metadata": {},
   "source": [
    "### Distribution Plot"
   ]
  },
  {
   "cell_type": "code",
   "execution_count": null,
   "id": "e7d7fe8e-3f95-44d3-b1dd-d87b0e54e353",
   "metadata": {},
   "outputs": [],
   "source": [
    "plot_model(kmodes, plot = 'distribution') #to see size of clusters"
   ]
  },
  {
   "cell_type": "markdown",
   "id": "565928a1-7642-4efa-97d2-67537ad524c2",
   "metadata": {},
   "source": [
    "### mean shift clustering"
   ]
  },
  {
   "cell_type": "code",
   "execution_count": null,
   "id": "a603e0cc-5fa6-4deb-a6ec-3499044910b8",
   "metadata": {},
   "outputs": [],
   "source": [
    "meanshift = create_model('meanshift')"
   ]
  },
  {
   "cell_type": "code",
   "execution_count": null,
   "id": "31bce210-1d2d-4720-a7cd-ca9294f9b460",
   "metadata": {},
   "outputs": [],
   "source": [
    "meanshift_results = assign_model(meanshift)\n",
    "meanshift_results.head()"
   ]
  },
  {
   "cell_type": "code",
   "execution_count": null,
   "id": "48b52ee6-5252-44dc-a270-456d96de068b",
   "metadata": {},
   "outputs": [],
   "source": [
    "plot_model(meanshift, 'cluster')"
   ]
  },
  {
   "cell_type": "code",
   "execution_count": null,
   "id": "6daf79c1-2919-4a92-90f2-e8b1f18d3b8d",
   "metadata": {},
   "outputs": [],
   "source": [
    "plot_model(meanshift, plot = 'distribution') #to see size of clusters"
   ]
  },
  {
   "cell_type": "markdown",
   "id": "1f0d1438-c540-4298-a49d-7b9e6cc71bd4",
   "metadata": {},
   "source": [
    "### affinity proporgation clustering"
   ]
  },
  {
   "cell_type": "code",
   "execution_count": null,
   "id": "3d8b1d89-2caa-4b17-a50b-a98e1212ca3f",
   "metadata": {},
   "outputs": [],
   "source": [
    "ap = create_model('ap')#, num_clusters = 9)"
   ]
  },
  {
   "cell_type": "code",
   "execution_count": null,
   "id": "9c341153-ae71-4f61-974c-b6ec020dd62d",
   "metadata": {},
   "outputs": [],
   "source": [
    "ap_results = assign_model(ap)\n",
    "#ap_results['Cluster'].to_csv('ap_clustering.csv')#\n",
    "ap_results.head()"
   ]
  },
  {
   "cell_type": "code",
   "execution_count": null,
   "id": "8829b57c-340d-42e0-a610-c03dc86e2e43",
   "metadata": {},
   "outputs": [],
   "source": [
    "plot_model(ap, 'cluster')"
   ]
  },
  {
   "cell_type": "code",
   "execution_count": null,
   "id": "e0897945-9708-4aa3-b163-1b8a9adc9ab5",
   "metadata": {},
   "outputs": [],
   "source": [
    "plot_model(ap, plot = 'distribution') #to see size of clusters"
   ]
  },
  {
   "cell_type": "markdown",
   "id": "8fbfb55c-87a6-4413-8b7f-f432167e14b0",
   "metadata": {},
   "source": [
    "#plot_model(ap, plot = 'silhouette')"
   ]
  },
  {
   "cell_type": "markdown",
   "id": "616b4e54-6be9-4447-9c95-bd3a14ee1c0b",
   "metadata": {},
   "source": [
    "#plot_model(ap, plot = 'elbow')"
   ]
  },
  {
   "cell_type": "markdown",
   "id": "5ae005d0-ed51-4c02-8c3f-e6835d8b6fa2",
   "metadata": {},
   "source": [
    "### optics clustering"
   ]
  },
  {
   "cell_type": "code",
   "execution_count": null,
   "id": "4ca2fed4-bb36-4d9f-bc00-bbcfb15a2ad6",
   "metadata": {},
   "outputs": [],
   "source": [
    "optics = create_model('optics')"
   ]
  },
  {
   "cell_type": "code",
   "execution_count": null,
   "id": "28524503-14be-4b2f-82f5-6ec5e3f5d8b9",
   "metadata": {},
   "outputs": [],
   "source": [
    "optics_results = assign_model(optics)\n",
    "optics_results.head()"
   ]
  },
  {
   "cell_type": "code",
   "execution_count": null,
   "id": "41095e1e-78fc-48f2-910c-323205ea612b",
   "metadata": {},
   "outputs": [],
   "source": [
    "plot_model(optics, 'cluster')"
   ]
  },
  {
   "cell_type": "code",
   "execution_count": null,
   "id": "8e7188dd-81d2-49f9-8fa4-01cd07b8ae7d",
   "metadata": {},
   "outputs": [],
   "source": [
    "plot_model(optics, plot = 'distribution') #to see size of clusters"
   ]
  },
  {
   "cell_type": "code",
   "execution_count": null,
   "id": "10c5eba5-2730-455c-837c-7132524355b6",
   "metadata": {},
   "outputs": [],
   "source": [
    "optics_results = assign_model(optics)\n",
    "#optics_results['Cluster'].to_csv('optics_clustering.csv')#"
   ]
  },
  {
   "cell_type": "markdown",
   "id": "fa37c97a-1aa9-4776-888d-5cb294727ad2",
   "metadata": {},
   "source": [
    "plot_model(optics, plot = 'silhouette')"
   ]
  },
  {
   "cell_type": "markdown",
   "id": "46a5a1b7-b22d-46e1-bd69-56117571f4ab",
   "metadata": {},
   "source": [
    "### birch clustering"
   ]
  },
  {
   "cell_type": "code",
   "execution_count": null,
   "id": "246e0655-31d6-44dd-939d-8cc73ec9978a",
   "metadata": {},
   "outputs": [],
   "source": [
    "birch = create_model('birch')#, num_clusters = 9)"
   ]
  },
  {
   "cell_type": "code",
   "execution_count": null,
   "id": "7d93143b-efde-4ea8-a431-f33b13d225a6",
   "metadata": {},
   "outputs": [],
   "source": [
    "birch_results = assign_model(birch)\n",
    "#birch_results['Cluster'].to_csv('birch_clustering.csv')\n",
    "birch_results.head()"
   ]
  },
  {
   "cell_type": "code",
   "execution_count": null,
   "id": "47781663-8e0d-4b1f-b68b-4c37d9fc24a4",
   "metadata": {},
   "outputs": [],
   "source": [
    "plot_model(birch, 'cluster')"
   ]
  },
  {
   "cell_type": "code",
   "execution_count": null,
   "id": "054a9950-b8da-4866-b127-2994d0826242",
   "metadata": {},
   "outputs": [],
   "source": [
    "plot_model(birch, plot = 'distribution') #to see size of clusters"
   ]
  },
  {
   "cell_type": "code",
   "execution_count": null,
   "id": "7a905201-7a89-4b92-8ef3-d88eb96f07a9",
   "metadata": {},
   "outputs": [],
   "source": [
    "plot_model(birch, plot = 'silhouette')"
   ]
  },
  {
   "cell_type": "markdown",
   "id": "dd247698-3c53-4b8a-a25c-9cddc6bb976e",
   "metadata": {},
   "source": [
    "### Spectral Clustering"
   ]
  },
  {
   "cell_type": "code",
   "execution_count": null,
   "id": "0ed77149-f5a0-4723-ad5e-d29230ef532f",
   "metadata": {},
   "outputs": [],
   "source": [
    "sc = create_model('sc')#, num_clusters = 20)"
   ]
  },
  {
   "cell_type": "code",
   "execution_count": null,
   "id": "e2dd5fd3-ca6e-46f4-94ae-97eec43c8693",
   "metadata": {},
   "outputs": [],
   "source": [
    "sc_results = assign_model(sc)\n",
    "sc_results.head()"
   ]
  },
  {
   "cell_type": "code",
   "execution_count": null,
   "id": "a8cfbaf3-c4de-4711-9862-177a502007e9",
   "metadata": {},
   "outputs": [],
   "source": [
    "plot_model(sc, 'cluster')"
   ]
  },
  {
   "cell_type": "code",
   "execution_count": null,
   "id": "9a454431-816a-4d9a-9078-667a9f9ecb04",
   "metadata": {},
   "outputs": [],
   "source": [
    "plot_model(sc, plot = 'distribution') #to see size of clusters"
   ]
  },
  {
   "cell_type": "markdown",
   "id": "538b5284-ee15-464c-a1a9-270b1b935cbe",
   "metadata": {},
   "source": [
    "plot_model(sc, plot = 'silhouette')"
   ]
  },
  {
   "cell_type": "markdown",
   "id": "7287b924-9022-4305-831f-d976cb11d228",
   "metadata": {},
   "source": [
    "plot_model(sc, plot = 'elbow')"
   ]
  },
  {
   "cell_type": "markdown",
   "id": "4cdde7d2-0600-4d1d-9dfa-a42e85ffd867",
   "metadata": {},
   "source": [
    "### Agglomerative Clustering "
   ]
  },
  {
   "cell_type": "code",
   "execution_count": null,
   "id": "074cec25-c0b4-4dec-bcdf-f3ab4e519b08",
   "metadata": {},
   "outputs": [],
   "source": [
    "hclust = create_model('hclust')#, num_clusters = 10)"
   ]
  },
  {
   "cell_type": "code",
   "execution_count": null,
   "id": "deaca88f-a761-46ca-98a3-dba719d59804",
   "metadata": {},
   "outputs": [],
   "source": [
    "hclust_results = assign_model(hclust)\n",
    "hclust_results.head()"
   ]
  },
  {
   "cell_type": "code",
   "execution_count": null,
   "id": "1c3ef25e-a649-4756-bb48-e2bce67efeee",
   "metadata": {},
   "outputs": [],
   "source": [
    "#hclust_results['Cluster'].to_csv('hclust_clustering.csv')#"
   ]
  },
  {
   "cell_type": "code",
   "execution_count": null,
   "id": "4620cfe3-01d1-49c1-b90a-e69e987c77b4",
   "metadata": {},
   "outputs": [],
   "source": [
    "plot_model(hclust, 'cluster')"
   ]
  },
  {
   "cell_type": "code",
   "execution_count": null,
   "id": "9c6ef3f4-1f3c-4f5a-9948-7beb0a455661",
   "metadata": {},
   "outputs": [],
   "source": [
    "plot_model(hclust, plot = 'distribution') #to see size of clusters"
   ]
  },
  {
   "cell_type": "markdown",
   "id": "b2b45289-5bcc-4ed0-9e99-bc0acaae6200",
   "metadata": {},
   "source": [
    "### fuzzy c-means"
   ]
  },
  {
   "cell_type": "code",
   "execution_count": null,
   "id": "740f6e5d-343e-4da4-bd60-d2d35056b21e",
   "metadata": {},
   "outputs": [],
   "source": [
    "#!pip install fuzzy-c-means"
   ]
  },
  {
   "cell_type": "code",
   "execution_count": null,
   "id": "fd97672c-ef3d-4967-a198-98017193d200",
   "metadata": {},
   "outputs": [],
   "source": [
    "from fcmeans import FCM\n",
    "from matplotlib import pyplot as plt"
   ]
  },
  {
   "cell_type": "code",
   "execution_count": null,
   "id": "cad6d29e-8901-437b-bf29-03e8c00ab96b",
   "metadata": {},
   "outputs": [],
   "source": [
    "dataset_np = dataset.to_numpy()\n",
    "fcm = FCM(n_clusters=10)\n",
    "fcm.fit(dataset_np)"
   ]
  },
  {
   "cell_type": "code",
   "execution_count": null,
   "id": "2ea503c7-3079-4da1-a2d6-e66dfe8d09a3",
   "metadata": {},
   "outputs": [],
   "source": [
    "# outputs\n",
    "fcm_centers = fcm.centers\n",
    "fcm_labels = fcm.predict(dataset_np)\n",
    "\n",
    "# plot result\n",
    "f, axes = plt.subplots(1, 2, figsize=(11,5))\n",
    "axes[0].scatter(dataset_np[:,0], dataset_np[:,1], alpha=.1)\n",
    "axes[1].scatter(dataset_np[:,0], dataset_np[:,1], c=fcm_labels, alpha=.1)\n",
    "axes[1].scatter(fcm_centers[:,0], fcm_centers[:,1], marker=\"+\", s=500, c='w')\n",
    "plt.show()"
   ]
  },
  {
   "cell_type": "code",
   "execution_count": null,
   "id": "34a8e3ad-c67e-4da2-a78e-72d270d0ef70",
   "metadata": {},
   "outputs": [],
   "source": [
    "fcm_labels"
   ]
  },
  {
   "cell_type": "code",
   "execution_count": null,
   "id": "e832c5b4-63eb-4e33-89d7-ab630ff07cb3",
   "metadata": {},
   "outputs": [],
   "source": [
    "fcm_labels_dataframe = pd.DataFrame(fcm_labels)\n",
    "column = ['Cluster']\n",
    "fcm_labels_dataframe.columns = column\n",
    "#fcm_labels_dataframe.to_csv('fcm_clustering.csv')\n",
    "fcm_labels_dataframe.head()"
   ]
  },
  {
   "cell_type": "code",
   "execution_count": null,
   "id": "23059250-c680-49e5-bfeb-f28db4d0c639",
   "metadata": {},
   "outputs": [],
   "source": [
    "#fcm_centers"
   ]
  }
 ],
 "metadata": {
  "kernelspec": {
   "display_name": "six_project",
   "language": "python",
   "name": "six_project"
  },
  "language_info": {
   "codemirror_mode": {
    "name": "ipython",
    "version": 3
   },
   "file_extension": ".py",
   "mimetype": "text/x-python",
   "name": "python",
   "nbconvert_exporter": "python",
   "pygments_lexer": "ipython3",
   "version": "3.9.12"
  }
 },
 "nbformat": 4,
 "nbformat_minor": 5
}
