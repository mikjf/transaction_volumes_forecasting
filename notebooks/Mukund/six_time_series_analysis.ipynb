{
 "cells": [
  {
   "cell_type": "markdown",
   "id": "9e710497-0eec-46a7-9cb7-fb667769d01e",
   "metadata": {},
   "source": [
    "### SIX - Time Series Prediction & Outlier Detection on Anonymized Transaction Dataset\n",
    "-- Notebook by Mukund Pondkule"
   ]
  },
  {
   "cell_type": "markdown",
   "id": "d7cacc42-4aad-41d5-a17e-83370669af56",
   "metadata": {},
   "source": [
    "### Packages"
   ]
  },
  {
   "cell_type": "code",
   "execution_count": null,
   "id": "fe0d7bc9-e9e1-4adf-8935-34340a1ad1e9",
   "metadata": {},
   "outputs": [],
   "source": [
    "# ----------------------------------GENERAL---------dropna---------------------\n",
    "import pandas as pd\n",
    "import numpy as np\n",
    "import matplotlib.pyplot as plt\n",
    "import warnings\n",
    "import matplotlib.mlab as mlab\n",
    "import matplotlib.cm as cm\n",
    "warnings.filterwarnings(\"ignore\")\n",
    "\n",
    "# ----------------------------------VISUALIZATION---------------------------\n",
    "\n",
    "from IPython.display import (\n",
    "    Image,\n",
    ")  # I-Python For allowing user to display images in notebooks\n",
    "import seaborn as sns  # Visualization library based on matplotlib. It provides a high-level interface for drawing attractive and informative statistical graphics\n",
    "import matplotlib.pyplot as plt  # Importation of pyplot sub-library from Matplotlib library\n",
    "\n",
    "#----------------------------------CLUSTERING-------------------------------\n",
    "\n",
    "from sklearn.preprocessing import StandardScaler, MinMaxScaler\n",
    "from sklearn.cluster import KMeans\n",
    "from sklearn.metrics import silhouette_samples, silhouette_score\n",
    "from sklearn.pipeline import Pipeline\n",
    "\n",
    "#from sklearn.datasets import make_classification\n",
    "from sklearn.datasets import make_blobs"
   ]
  },
  {
   "cell_type": "markdown",
   "id": "d3a83185-96b9-4ca4-a069-a0e36433eb98",
   "metadata": {},
   "source": [
    "### Custom classes and functions"
   ]
  },
  {
   "cell_type": "code",
   "execution_count": null,
   "id": "4b351f09-a476-4228-8921-6ea2fbfd9ade",
   "metadata": {},
   "outputs": [],
   "source": [
    "import sys\n",
    "\n",
    "SCRIPT_DIR = \"../src\"\n",
    "sys.path.append(SCRIPT_DIR)"
   ]
  },
  {
   "cell_type": "markdown",
   "id": "1b5893a3-a36a-4923-9a5c-f9540c28d7e8",
   "metadata": {},
   "source": [
    "### Global Parameters Setting"
   ]
  },
  {
   "cell_type": "code",
   "execution_count": null,
   "id": "8e18a81b-0301-4331-8dd8-b8536e665cbe",
   "metadata": {},
   "outputs": [],
   "source": [
    "plt.style.use(\"seaborn\")"
   ]
  },
  {
   "cell_type": "markdown",
   "id": "23f4f294-5275-4cf4-ac23-cc115e4c5eca",
   "metadata": {},
   "source": [
    "### User-Dependent Variables"
   ]
  },
  {
   "cell_type": "code",
   "execution_count": null,
   "id": "f88f4216-f078-4ec4-ad45-b5c426aa9211",
   "metadata": {},
   "outputs": [],
   "source": [
    "# you need to change the file path\n",
    "data_path = \"../../../data/raw/Time_Series_Merchants_Transactions_Anonymized.csv\"\n",
    "df_merchant_transactions = pd.read_csv(data_path)"
   ]
  },
  {
   "cell_type": "code",
   "execution_count": null,
   "id": "7e24d22b-8827-4565-a83a-e71d4945af0c",
   "metadata": {},
   "outputs": [],
   "source": [
    "df_merchant_transactions.head()"
   ]
  },
  {
   "cell_type": "code",
   "execution_count": null,
   "id": "832c744d-bceb-4ab5-bd26-88c6a48a67c9",
   "metadata": {},
   "outputs": [],
   "source": [
    "df_merchant_transactions.info()"
   ]
  },
  {
   "cell_type": "code",
   "execution_count": null,
   "id": "af3df53d-19d2-4a09-a853-9e3bb1adcd90",
   "metadata": {},
   "outputs": [],
   "source": [
    "import missingno as msno\n",
    "\n",
    "msno.matrix(df_merchant_transactions.sort_values(\"Merchant Name\", ascending=True))"
   ]
  },
  {
   "cell_type": "code",
   "execution_count": null,
   "id": "c7b158fd-bc7b-4e60-be5b-5c01e8fa02c7",
   "metadata": {},
   "outputs": [],
   "source": [
    "zero_count = []\n",
    "merchant = []\n",
    "for i in range(len(df_merchant_transactions)): \n",
    "    # Get the count of Zeros in row\n",
    "    count = df_merchant_transactions.iloc[i,:].isin([0]).sum()\n",
    "    #if(count == 26):\n",
    "    zero_count.append(count)\n",
    "    merchant.append(df_merchant_transactions.iloc[i,0])"
   ]
  },
  {
   "cell_type": "code",
   "execution_count": null,
   "id": "f99ceebb-e376-4851-bb07-b84e39728613",
   "metadata": {},
   "outputs": [],
   "source": [
    "y_pos = np.arange(len(merchant))\n",
    "# Create bars\n",
    "plt.bar(y_pos, zero_count)\n",
    "# Create names on the x-axis\n",
    "plt.xticks(y_pos, merchant)\n",
    "# Show graphic\n",
    "plt.show()"
   ]
  },
  {
   "cell_type": "code",
   "execution_count": null,
   "id": "edbbc149-a68a-41da-8bd7-ae184bb62228",
   "metadata": {},
   "outputs": [],
   "source": [
    "num_bins = 26\n",
    "n, bins, patches = plt.hist(zero_count, num_bins, facecolor='blue', alpha=0.5)\n",
    "\n",
    "# Giving x label using xlabel() method\n",
    "# with bold setting\n",
    "plt.xlabel(\"monthly zeros\", fontweight='bold')\n",
    "  \n",
    "# Giving y label using xlabel() method\n",
    "# with bold setting\n",
    "plt.ylabel(\"zeros count\", fontweight='bold')\n",
    "  \n",
    "# Giving title to the plot\n",
    "plt.title(\"monthly zeros vs zeros count\")\n",
    "plt.show()"
   ]
  },
  {
   "cell_type": "markdown",
   "id": "cfb14370-07b8-4d54-8465-d5a21d4360a8",
   "metadata": {
    "tags": []
   },
   "source": [
    "#### Data preparation"
   ]
  },
  {
   "cell_type": "code",
   "execution_count": null,
   "id": "1da0e9a2-2e56-4f9f-9c73-edc079bb9db1",
   "metadata": {},
   "outputs": [],
   "source": [
    "df_merchant_transactions = df_merchant_transactions.drop(columns='Merchant Name')"
   ]
  },
  {
   "cell_type": "code",
   "execution_count": null,
   "id": "299695c6-bbc2-4538-9fdd-800d060508c5",
   "metadata": {},
   "outputs": [],
   "source": [
    "df_merchant_transactions.head()"
   ]
  },
  {
   "cell_type": "code",
   "execution_count": null,
   "id": "a3483275-099b-463b-96f2-624afdbfff49",
   "metadata": {},
   "outputs": [],
   "source": [
    "X, y_true = make_blobs(n_samples=1613, centers=3 , n_features=26,\n",
    "                       cluster_std=1.5, random_state=42)"
   ]
  },
  {
   "cell_type": "code",
   "execution_count": null,
   "id": "8ba8411b-93d7-4b9a-998e-f8f668c21fe4",
   "metadata": {},
   "outputs": [],
   "source": [
    "plt.scatter(X[:, 0], X[:, 1], s=50);"
   ]
  },
  {
   "cell_type": "code",
   "execution_count": null,
   "id": "a23f3e03-4d73-4b18-bbcf-90a6a181b198",
   "metadata": {},
   "outputs": [],
   "source": [
    "sns.set (rc = {'figure.figsize':(40, 40)})\n",
    "sns.heatmap(df_merchant_transactions.corr(),annot=True,)"
   ]
  },
  {
   "cell_type": "markdown",
   "id": "459c22af-ced0-410b-bc3e-1e92a3836fc5",
   "metadata": {},
   "source": [
    "### using clustering method"
   ]
  },
  {
   "cell_type": "markdown",
   "id": "7894a34c-6353-41a9-b439-92cc02e2b3fb",
   "metadata": {},
   "source": [
    "#### Method 1: Choosing the optimal K in K-means: The Elbow Sum-of-Squares Method"
   ]
  },
  {
   "cell_type": "code",
   "execution_count": null,
   "id": "3e41b41d-2e01-44c2-a35e-06d82879c97c",
   "metadata": {},
   "outputs": [],
   "source": [
    "cluster_errors = []\n",
    "\n",
    "for n_clusters in range(2, 11):\n",
    "    kmeans_pipeline = Pipeline([\n",
    "        (\"scaler\", StandardScaler()),\n",
    "        (\"cluster\", KMeans(n_clusters=n_clusters, random_state=17, verbose=0))])\n",
    "    kmeans_pipeline.fit(df_merchant_transactions)\n",
    "    kmeans_pipeline.predict(df_merchant_transactions)\n",
    "    cluster_errors.append(kmeans_pipeline.named_steps[\"cluster\"].inertia_)"
   ]
  },
  {
   "cell_type": "code",
   "execution_count": null,
   "id": "fecad362-83c6-4805-8880-3e93dc298f30",
   "metadata": {},
   "outputs": [],
   "source": [
    "plt.plot(range(2, 11),cluster_errors, \"o-\")\n",
    "plt.xlabel(\"No. Clusters\")\n",
    "plt.ylabel(\"SSE\")\n",
    "plt.show()"
   ]
  },
  {
   "cell_type": "markdown",
   "id": "463553e4-1560-40dd-80c9-ebf399b16759",
   "metadata": {},
   "source": [
    "#### Method 2: Choosing the optimal K in K-means: The Silhouette Method"
   ]
  },
  {
   "cell_type": "code",
   "execution_count": null,
   "id": "c8e6478e-934e-430d-b257-23ea9cfca1ff",
   "metadata": {},
   "outputs": [],
   "source": [
    "silhouette_s = []\n",
    "\n",
    "for n_clusters in range(2, 11):\n",
    "    kmeans_pipeline = Pipeline([\n",
    "        (\"scaler\", StandardScaler()),\n",
    "        (\"cluster\", KMeans(n_clusters=n_clusters))])\n",
    "\n",
    "    cluster_labels = kmeans_pipeline.fit_predict(df_merchant_transactions)\n",
    "    print(\"For n_clusters =\", n_clusters,\"The average silhouette_score is :\", silhouette_score(df_merchant_transactions, cluster_labels).round(4))\n",
    "    silhouette_s.append(silhouette_score(df_merchant_transactions, cluster_labels))\n",
    "\n",
    "plt.plot(range(2, 11),silhouette_s, \"o-\")\n",
    "plt.xlabel(\"No. Clusters\")\n",
    "plt.ylabel(\"Silhouette Score\")\n",
    "plt.show()"
   ]
  },
  {
   "cell_type": "markdown",
   "id": "864572de-50b3-4ef4-acec-186178e8f41f",
   "metadata": {},
   "source": [
    "### Alglomerative clustering"
   ]
  },
  {
   "cell_type": "code",
   "execution_count": null,
   "id": "95ea9cfc-ffd1-410a-b9db-5cf9a333a58d",
   "metadata": {},
   "outputs": [],
   "source": [
    "from sklearn.cluster import AgglomerativeClustering\n",
    "\n",
    "silhouette_s = []\n",
    "\n",
    "for n_clusters in range(2, 11):\n",
    "    agglo_pipeline = Pipeline([\n",
    "    (\"scaler\", StandardScaler()),\n",
    "    (\"cluster\", AgglomerativeClustering(n_clusters=n_clusters))])\n",
    "\n",
    "    cluster_labels = agglo_pipeline.fit_predict(df_merchant_transactions)\n",
    "    print(\"For n_clusters =\", n_clusters,\"The average silhouette_score is :\", silhouette_score(df_merchant_transactions, cluster_labels).round(4))\n",
    "    silhouette_s.append(silhouette_score(df_merchant_transactions, cluster_labels))\n",
    "\n",
    "plt.plot(range(2, 11),silhouette_s, \"o-\")\n",
    "plt.xlabel(\"No. Clusters\")\n",
    "plt.ylabel(\"Silhouette Score\")\n",
    "plt.show()"
   ]
  },
  {
   "cell_type": "code",
   "execution_count": null,
   "id": "f8eadcad-174f-402d-bcd4-1788af35e4c1",
   "metadata": {},
   "outputs": [],
   "source": [
    "X = df_merchant_transactions.to_numpy()"
   ]
  },
  {
   "cell_type": "code",
   "execution_count": null,
   "id": "13f8dbda-6df6-4649-9965-76702b31ae8f",
   "metadata": {},
   "outputs": [],
   "source": [
    "''' Note: The code below is directly took from sklearn documentation of silhoutte analysis.\n",
    "          And so you do not have to spend time trying to understand the code'''\n",
    "\n",
    "range_n_clusters = range(2, 10)\n",
    "\n",
    "r_seed = 17\n",
    "\n",
    "cols = df_merchant_transactions.columns\n",
    "\n",
    "for n_clusters in range_n_clusters:\n",
    "\n",
    "    # Create a subplot with 1 row and 2 columns\n",
    "    fig, (ax1, ax2) = plt.subplots(1, 2)\n",
    "    fig.set_size_inches(18, 7)\n",
    "\n",
    "    # The 1st subplot is the silhouette plot\n",
    "\n",
    "    # The silhouette coefficient can range from -1, 1 but in this example all lie within [-0.2, 1]\n",
    "    ax1.set_xlim([-0.2, 1])\n",
    "    # The (n_clusters+1)*10 is for inserting blank space between silhouette plots of individual clusters, to demarcate them clearly.\n",
    "    ax1.set_ylim([0, len(X) + (n_clusters + 1) * 10])\n",
    "\n",
    "    # Initialize the Pipeline with n_clusters value and a random generator seed for reproducibility.\n",
    "    kmeans_pipeline = Pipeline([\n",
    "            (\"scaler\", StandardScaler()),\n",
    "            (\"cluster\", KMeans(n_clusters=n_clusters, random_state=r_seed, verbose=0))])\n",
    "\n",
    "    cluster_labels = kmeans_pipeline.fit_predict(X)\n",
    "    print('cluster_labels ', cluster_labels,' ', len(cluster_labels))\n",
    "    # The silhouette_score gives the average value for all the samples.\n",
    "    # This gives a perspective into the density and separation of the formed clusters\n",
    "    silhouette_avg = silhouette_score(X, cluster_labels)\n",
    "    print(\"For n_clusters =\",\n",
    "          n_clusters,\n",
    "          \"The average silhouette_score is :\",\n",
    "          silhouette_avg.round(4))\n",
    "\n",
    "    # Compute the silhouette scores for each sample\n",
    "    sample_silhouette_values = silhouette_samples(X, cluster_labels)\n",
    "\n",
    "    y_lower = 10\n",
    "    for i in range(n_clusters):\n",
    "        ith_cluster_silhouette_values = sample_silhouette_values[cluster_labels == i]\n",
    "        ith_cluster_silhouette_values.sort()\n",
    "        size_cluster_i = ith_cluster_silhouette_values.shape[0]\n",
    "        y_upper = y_lower + size_cluster_i\n",
    "\n",
    "        color = cm.nipy_spectral(float(i + 1) / n_clusters)\n",
    "        ax1.fill_betweenx(np.arange(y_lower, y_upper),\n",
    "                          0,\n",
    "                          ith_cluster_silhouette_values,\n",
    "                          facecolor=color,\n",
    "                          edgecolor=color,\n",
    "                          alpha=0.7)\n",
    "\n",
    "        ax1.text(-0.05, y_lower + 0.5 * size_cluster_i, str(i))\n",
    "\n",
    "        # Compute the new y_lower for next plot\n",
    "        y_lower = y_upper + 10  # 10 for the 0 samples\n",
    "\n",
    "    ax1.set_title(\"The silhouette plot for the various clusters.\")\n",
    "    ax1.set_xlabel(\"The silhouette coefficient values\")\n",
    "    ax1.set_ylabel(\"Cluster label\")\n",
    "\n",
    "    # The vertical line for average silhouette score of all the values\n",
    "    ax1.axvline(x=silhouette_avg, color=\"red\", linestyle=\"--\")\n",
    "\n",
    "    ax1.set_yticks([])  # Clear the yaxis labels / ticks\n",
    "    ax1.set_xticks([-0.1, 0, 0.2, 0.4, 0.6, 0.8, 1])\n",
    "\n",
    "    # 2nd Plot showing the actual clusters formed\n",
    "    colors = cm.nipy_spectral((cluster_labels.astype(float) + 1) / n_clusters)\n",
    "    ax2.scatter(X[:, 0],\n",
    "                X[:, 1],\n",
    "                marker=\".\",\n",
    "                s=30,\n",
    "                lw=0,\n",
    "                alpha=0.7,\n",
    "                c=colors,\n",
    "                edgecolor=\"k\")\n",
    "\n",
    "    # Labeling the clusters\n",
    "    pipeline_centers = kmeans_pipeline.named_steps[\"cluster\"].cluster_centers_\n",
    "    centers = kmeans_pipeline.named_steps[\"scaler\"].inverse_transform(pipeline_centers)\n",
    "    # Draw white circles at cluster centers\n",
    "    ax2.scatter(\n",
    "        centers[:, 0],\n",
    "        centers[:, 1],\n",
    "        marker=\"o\",\n",
    "        c=\"white\",\n",
    "        alpha=1,\n",
    "        s=200,\n",
    "        edgecolor=\"k\",\n",
    "    )\n",
    "\n",
    "    for i, c in enumerate(centers):\n",
    "        ax2.scatter(c[0], c[1], alpha=1, s=50, edgecolor=\"k\")\n",
    "\n",
    "    ax2.set_title(\"The visualization of the clustered data.\")\n",
    "    ax2.set_xlabel(\"Feature space for the 1st feature : \" + cols[0])\n",
    "    ax2.set_ylabel(\"Feature space for the 2nd feature :\" + cols[1])\n",
    "    \n",
    "    plt.suptitle(\n",
    "        (\n",
    "            \"Silhouette analysis for KMeans clustering on sample data \"\n",
    "            \"with n_clusters = %d\" % n_clusters\n",
    "        ),\n",
    "        fontsize=14,\n",
    "        fontweight=\"bold\",\n",
    "    )\n",
    "    \n",
    "print(\"\\n\")\n",
    "plt.show()"
   ]
  },
  {
   "cell_type": "markdown",
   "id": "8d018e85-0c87-45b1-806c-f5d0e42d3987",
   "metadata": {},
   "source": [
    "### Clustering with the best model"
   ]
  },
  {
   "cell_type": "code",
   "execution_count": null,
   "id": "b7009e8b-89ec-4092-801c-afa37a6716dc",
   "metadata": {},
   "outputs": [],
   "source": [
    "kmeans_pipeline = Pipeline([\n",
    "        #(\"scaler\", StandardScaler()),\n",
    "        (\"cluster\", KMeans(n_clusters=3, random_state=17, verbose=0))])\n",
    "kmeans_pipeline.fit(df_merchant_transactions)\n",
    "clusters = kmeans_pipeline.predict(df_merchant_transactions)\n",
    "df_merchant_transactions['merchant_clusters'] = clusters\n",
    "df_merchant_transactions.head()"
   ]
  },
  {
   "cell_type": "code",
   "execution_count": null,
   "id": "763c24e5-c749-40e3-993c-2470c010c7b6",
   "metadata": {},
   "outputs": [],
   "source": [
    "df_merchant_transactions['merchant_clusters'].info()"
   ]
  },
  {
   "cell_type": "code",
   "execution_count": null,
   "id": "5338eaf1-9a8d-4b65-9925-b255a8ea787f",
   "metadata": {},
   "outputs": [],
   "source": [
    "df_merchant_transactions['merchant_clusters'].value_counts()"
   ]
  },
  {
   "cell_type": "code",
   "execution_count": null,
   "id": "96a8d292-ffc9-4f1b-ad65-4e5ab3162423",
   "metadata": {},
   "outputs": [],
   "source": [
    "sns.scatterplot(x=df_merchant_transactions['Aug 20'], y=df_merchant_transactions['Aug 20'], hue=df_merchant_transactions['merchant_clusters']);"
   ]
  },
  {
   "cell_type": "markdown",
   "id": "b5abde40-c761-4a50-bc26-4cde2155f41b",
   "metadata": {},
   "source": [
    "### 𝑘-means clustering for time series"
   ]
  },
  {
   "cell_type": "code",
   "execution_count": null,
   "id": "b4095619-4fe5-48e9-ae2a-7dd02642231c",
   "metadata": {},
   "outputs": [],
   "source": [
    "df_merchant_transactions.head()"
   ]
  },
  {
   "cell_type": "code",
   "execution_count": null,
   "id": "2e79fa2f-db6d-4e8c-a3a4-05ad01e659ad",
   "metadata": {},
   "outputs": [],
   "source": [
    "df_merchant_transactions_tslearn = df_merchant_transactions.copy()\n",
    "df_merchant_transactions_tslearn.head()"
   ]
  },
  {
   "cell_type": "code",
   "execution_count": null,
   "id": "9a7a5ccf-5bd8-4f9a-9189-091b7d55975b",
   "metadata": {},
   "outputs": [],
   "source": [
    "df_merchant_transactions_tslearn = df_merchant_transactions_tslearn.drop(columns='merchant_clusters')"
   ]
  },
  {
   "cell_type": "code",
   "execution_count": null,
   "id": "1e92739c-4212-4faa-9d90-7b89ab2a4a31",
   "metadata": {},
   "outputs": [],
   "source": [
    "# define StandardScaler scaler\n",
    "scaler = MinMaxScaler()\n",
    "# transform data\n",
    "X_series = scaler.fit_transform(df_merchant_transactions_tslearn)"
   ]
  },
  {
   "cell_type": "code",
   "execution_count": null,
   "id": "94726a34-740f-4f9f-b461-4714bdbcc807",
   "metadata": {},
   "outputs": [],
   "source": [
    "from tslearn.utils import to_time_series_dataset\n",
    "X_tslearn = to_time_series_dataset(X_series)\n",
    "type(X_tslearn)"
   ]
  },
  {
   "cell_type": "code",
   "execution_count": null,
   "id": "d39f3140-9d63-4614-bcb2-996e6d5adc3d",
   "metadata": {},
   "outputs": [],
   "source": [
    "from tslearn.clustering import TimeSeriesKMeans, silhouette_score\n",
    "\n",
    "km = TimeSeriesKMeans(n_clusters=3, metric=\"dtw\")\n",
    "labels = km.fit_predict(X_tslearn)\n",
    "silhouette_score(X_tslearn, labels, metric=\"dtw\")"
   ]
  },
  {
   "cell_type": "raw",
   "id": "b3faebc4-b20b-40ec-a682-039059374918",
   "metadata": {},
   "source": [
    "from tslearn.clustering import TimeSeriesKMeans, silhouette_score\n",
    "\n",
    "km = TimeSeriesKMeans(n_clusters=3, metric=\"softdtw\")\n",
    "labels = km.fit_predict(X_tslearn)\n",
    "silhouette_score(X_tslearn, labels, metric=\"softdtw\")"
   ]
  },
  {
   "cell_type": "code",
   "execution_count": null,
   "id": "c7d9cf44-0588-4daa-a7b7-f089d0f00c13",
   "metadata": {},
   "outputs": [],
   "source": [
    "from yellowbrick.cluster import SilhouetteVisualizer\n",
    "from tslearn.clustering import TimeSeriesKMeans\n",
    "\n",
    "for c in range(2,4):\n",
    "    model = TimeSeriesKMeans(c, metric=\"dtw\", random_state=r_seed, verbose=0)\n",
    "    visualizer = SilhouetteVisualizer(model, colors='yellowbrick')\n",
    "    visualizer.fit(X_series)"
   ]
  }
 ],
 "metadata": {
  "kernelspec": {
   "display_name": "six_project",
   "language": "python",
   "name": "six_project"
  },
  "language_info": {
   "codemirror_mode": {
    "name": "ipython",
    "version": 3
   },
   "file_extension": ".py",
   "mimetype": "text/x-python",
   "name": "python",
   "nbconvert_exporter": "python",
   "pygments_lexer": "ipython3",
   "version": "3.9.12"
  }
 },
 "nbformat": 4,
 "nbformat_minor": 5
}
